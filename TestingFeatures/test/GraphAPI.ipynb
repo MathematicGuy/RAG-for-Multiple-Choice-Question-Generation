{
 "cells": [
  {
   "cell_type": "markdown",
   "id": "5be5c6ca",
   "metadata": {},
   "source": [
    "`State:` \n",
    "\n",
    "`Nodes:` \n",
    "\n",
    "`Edges:` "
   ]
  },
  {
   "cell_type": "code",
   "execution_count": null,
   "id": "49bf5fdb",
   "metadata": {},
   "outputs": [],
   "source": []
  }
 ],
 "metadata": {
  "kernelspec": {
   "display_name": "rag-multi-choice",
   "language": "python",
   "name": "python3"
  },
  "language_info": {
   "name": "python",
   "version": "3.11.13"
  }
 },
 "nbformat": 4,
 "nbformat_minor": 5
}
