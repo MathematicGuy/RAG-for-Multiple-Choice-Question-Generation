{
 "cells": [
  {
   "cell_type": "markdown",
   "id": "0657b5ff",
   "metadata": {},
   "source": [
    "# download libs\n",
    "pip install torch transformers accelerate bitsandbytes langchain langchain-community langchain-experimental langchain-huggingface langchain-chroma langchain-text-splitters langchain-core chromadb"
   ]
  },
  {
   "cell_type": "code",
   "execution_count": 28,
   "id": "9e4175c3",
   "metadata": {},
   "outputs": [
    {
     "data": {
      "text/plain": [
       "True"
      ]
     },
     "execution_count": 28,
     "metadata": {},
     "output_type": "execute_result"
    }
   ],
   "source": [
    "import torch\n",
    "torch.cuda.is_available()"
   ]
  },
  {
   "cell_type": "code",
   "execution_count": 29,
   "id": "f87f71ab",
   "metadata": {},
   "outputs": [],
   "source": [
    "from transformers import BitsAndBytesConfig # for compressing model e.g. 16bits -> 4bits\n",
    "\n",
    "from transformers import (\n",
    "                          AutoTokenizer, # Tokenize Model\n",
    "                          AutoModelForCausalLM,  # LLM Loader - used for loading and using pre-trained models designed for causal language modeling tasks\n",
    "                          pipeline) # pipline to setup llm-task oritented model\n",
    "                                    # pipline(\"text-classification\", model='model', device=0)\n",
    "\n",
    "from langchain_huggingface import HuggingFaceEmbeddings # huggingface sentence_transformer embedding models\n",
    "from langchain_huggingface.llms import HuggingFacePipeline # like transformer pipeline\n",
    "\n",
    "from langchain.memory import ConversationBufferMemory # Deprecated\n",
    "from langchain_community.chat_message_histories import ChatMessageHistory # Deprecated\n",
    "from langchain_community.document_loaders import PyPDFLoader, TextLoader # PDF Processing\n",
    "from langchain.chains import ConversationalRetrievalChain # Deprecated\n",
    "from langchain_experimental.text_splitter import SemanticChunker # module for chunking text\n",
    "\n",
    "from langchain_chroma import Chroma # AI-native vector databases (ai-native mean built for handle large-scale AI workloads efficiently)\n",
    "from langchain_text_splitters import RecursiveCharacterTextSplitter # recursively divide text, then merge them together if merge_size < chunk_size\n",
    "from langchain_core.runnables import RunnablePassthrough # Use for testing (make 'example' easy to execute and experiment with)\n",
    "from langchain_core.output_parsers import StrOutputParser # format LLM's output text into (list, dict or any custom structure we can work with)\n",
    "from langchain import hub"
   ]
  },
  {
   "cell_type": "code",
   "execution_count": 30,
   "id": "07f2046c",
   "metadata": {},
   "outputs": [
    {
     "data": {
      "application/vnd.jupyter.widget-view+json": {
       "model_id": "8e3146e5278e4aca8c689cfc32c49265",
       "version_major": 2,
       "version_minor": 0
      },
      "text/plain": [
       "VBox(children=(HTML(value='<center> <img\\nsrc=https://huggingface.co/front/assets/huggingface_logo-noborder.sv…"
      ]
     },
     "metadata": {},
     "output_type": "display_data"
    }
   ],
   "source": [
    "from huggingface_hub import notebook_login\n",
    "notebook_login()"
   ]
  },
  {
   "cell_type": "code",
   "execution_count": 31,
   "id": "910833ae",
   "metadata": {},
   "outputs": [],
   "source": [
    "# Read PDF file\n",
    "Loader = PyPDFLoader\n",
    "# FILE_PATH = \"25 Thuật Ngữ AI - Machine Learning dễ hiểu cho người mới.pdf\"\n",
    "FILE_PATH = \"iot_security_report.pdf\"\n",
    "loader = Loader(FILE_PATH)\n",
    "documents = loader.load()"
   ]
  },
  {
   "cell_type": "code",
   "execution_count": 32,
   "id": "8cda4b2d",
   "metadata": {},
   "outputs": [
    {
     "name": "stdout",
     "output_type": "stream",
     "text": [
      "[Document(metadata={'producer': 'pdfTeX-1.40.26', 'creator': 'LaTeX with hyperref', 'creationdate': '2025-06-11T15:24:02+00:00', 'author': '', 'keywords': '', 'moddate': '2025-06-11T15:24:02+00:00', 'ptex.fullbanner': 'This is pdfTeX, Version 3.141592653-2.6-1.40.26 (TeX Live 2024) kpathsea version 6.4.0', 'subject': '', 'title': '', 'trapped': '/False', 'source': 'iot_security_report.pdf', 'total_pages': 35, 'page': 0, 'page_label': '1'}, page_content='IoT Security\\nNgười thực hiện:Nguyễn Bình Nam\\nNgười hướng dẫn:Trần Quang Tài\\nNgày 11 tháng 6 năm 2025'), Document(metadata={'producer': 'pdfTeX-1.40.26', 'creator': 'LaTeX with hyperref', 'creationdate': '2025-06-11T15:24:02+00:00', 'author': '', 'keywords': '', 'moddate': '2025-06-11T15:24:02+00:00', 'ptex.fullbanner': 'This is pdfTeX, Version 3.141592653-2.6-1.40.26 (TeX Live 2024) kpathsea version 6.4.0', 'subject': '', 'title': '', 'trapped': '/False', 'source': 'iot_security_report.pdf', 'total_pages': 35, 'page': 1, 'page_label': '1'}, page_content='Mục lục\\nTóm tắt dự án 3\\n1 Tổng quan về IoT 4\\n1.1 IoT là gì? . . . . . . . . . . . . . . . . . . . . . . . . . . . . . 4\\n1.2 Các thành phần trong hệ thống IoT . . . . . . . . . . . . . . . 4\\n2 Các mối đe dọa về bảo mật trong IoT 6\\n2.1 Mối đe dọa tầng cảm biến . . . . . . . . . . . . . . . . . . . . 6\\n2.1.1 Khai thác thiết bị vật lý . . . . . . . . . . . . . . . . . 6\\n2.1.2 Tấn công side-channel . . . . . . . . . . . . . . . . . . 6\\n2.1.3 Chỉnh sửa firmware . . . . . . . . . . . . . . . . . . . . 6\\n2.1.4 Ví dụ thực tế . . . . . . . . . . . . . . . . . . . . . . . 7\\n2.2 Mối đe dọa tầng mạng . . . . . . . . . . . . . . . . . . . . . . 7\\n2.2.1 Tấn công phát lại . . . . . . . . . . . . . . . . . . . . . 7\\n2.2.2 Man-in-the-Middle (MITM) . . . . . . . . . . . . . . . 7\\n2.2.3 Làm nhiễu sóng radio . . . . . . . . . . . . . . . . . . . 7\\n2.2.4 Denial of Service (DoS) . . . . . . . . . . . . . . . . . . 7\\n2.2.5 Ví dụ thực tế . . . . . . . . . . . . . . . . . . . . . . . 8\\n2.3 Mối đe dọa tầng ứng dụng . . . . . . . . . . . . . . . . . . . . 8\\n2.3.1 Xác thực và quản lý session yếu . . . . . . . . . . . . . 8\\n2.3.2 Lỗ hổng web . . . . . . . . . . . . . . . . . . . . . . . . 8\\n2.3.3 Ứng dụng mobile lưu trữ thông tin không an toàn . . . 8\\n2.3.4 Ví dụ thực tế . . . . . . . . . . . . . . . . . . . . . . . 8\\n3 Các phương pháp khai thác IoT 9\\n3.1 Mật khẩu yếu, dễ đoán . . . . . . . . . . . . . . . . . . . . . . 9\\n3.2 Dịch vụ mạng không an toàn . . . . . . . . . . . . . . . . . . 10\\n3.3 Giao diện ecosystem không an toàn . . . . . . . . . . . . . . . 10\\n3.4 Không có cơ chế cập nhật an toàn . . . . . . . . . . . . . . . . 10\\n3.5 Sử dụng thành phần phiên bản cũ, thiếu an toàn . . . . . . . 10\\n3.6 Bảo vệ quyền riêng tư không đầy đủ . . . . . . . . . . . . . . 10\\n1'), Document(metadata={'producer': 'pdfTeX-1.40.26', 'creator': 'LaTeX with hyperref', 'creationdate': '2025-06-11T15:24:02+00:00', 'author': '', 'keywords': '', 'moddate': '2025-06-11T15:24:02+00:00', 'ptex.fullbanner': 'This is pdfTeX, Version 3.141592653-2.6-1.40.26 (TeX Live 2024) kpathsea version 6.4.0', 'subject': '', 'title': '', 'trapped': '/False', 'source': 'iot_security_report.pdf', 'total_pages': 35, 'page': 2, 'page_label': '2'}, page_content='3.7 Cơ chế truyền và lưu trữ dữ liệu không an toàn . . . . . . . . 11\\n3.8 Không có quản lý thiết bị . . . . . . . . . . . . . . . . . . . . 11\\n3.9 Cấu hình mặc định không an toàn . . . . . . . . . . . . . . . . 11\\n3.10 Không có sự kiên cố về mặt vật lý . . . . . . . . . . . . . . . . 11\\n4 Minh họa 12\\n4.1 Thiết bị được sử dụng . . . . . . . . . . . . . . . . . . . . . . 12\\n4.2 Setup môi trường . . . . . . . . . . . . . . . . . . . . . . . . . 13\\n4.3 Phân tích firmware . . . . . . . . . . . . . . . . . . . . . . . . 14\\n4.4 Các lỗ hổng được khai thác . . . . . . . . . . . . . . . . . . . 18\\n4.4.1 Command injection trong tính năng chuẩn đoán ping . 18\\n4.4.2 Denial of Service bằng buffer overflow trong tính năng\\nhủy ping . . . . . . . . . . . . . . . . . . . . . . . . . . 21\\n4.4.3 Command injection trong tính năng DDNS check . . . 23\\n4.4.4 Kiểm soát truy cập kém . . . . . . . . . . . . . . . . . 24\\n4.4.5 Chỉnh sửa firmware . . . . . . . . . . . . . . . . . . . . 28\\n5 Kết luận 33\\n2'), Document(metadata={'producer': 'pdfTeX-1.40.26', 'creator': 'LaTeX with hyperref', 'creationdate': '2025-06-11T15:24:02+00:00', 'author': '', 'keywords': '', 'moddate': '2025-06-11T15:24:02+00:00', 'ptex.fullbanner': 'This is pdfTeX, Version 3.141592653-2.6-1.40.26 (TeX Live 2024) kpathsea version 6.4.0', 'subject': '', 'title': '', 'trapped': '/False', 'source': 'iot_security_report.pdf', 'total_pages': 35, 'page': 3, 'page_label': '3'}, page_content='Tóm tắt dự án\\nCác thiết bị Internet of Things (IoT) đang dần trở thành 1 phần tất yếu\\ntrong cuộc sống hiện đại. Vì số lượng thiết bị kết nối đa dạng và dữ liệu\\nđược thu thập liên tục, các lỗ hổng bảo mật có thể dẫn đến những rủi ro\\nnghiêm trọng cho người dùng và doanh nghiệp. Việc đảm bảo an toàn và\\nbảo mật cho hệ sinh thái IoT là yêu cầu cấp thiết, đòi hỏi những giải pháp\\ntoàn diện từ cấp độ thiết bị đến mạng lưới kết nối.\\nDự án này sẽ đi sâu vào việc tìm hiểu và phân tích bảo mật trong hạ\\ntầng IoT. Đồng thời, các phương pháp khai thác IoT sẽ được khám phá và\\nmột số lỗ hổng bảo mật trên hạ tầng thiết bị IoT sẽ được minh họa. Mục\\ntiêu của dự án này là hiểu sâu hơn về bảo mật cho hệ thống IoT và đề cao\\nsự quan trọng của việc xây dựng hệ thống bảo mật cho hạ tầng này.\\n3'), Document(metadata={'producer': 'pdfTeX-1.40.26', 'creator': 'LaTeX with hyperref', 'creationdate': '2025-06-11T15:24:02+00:00', 'author': '', 'keywords': '', 'moddate': '2025-06-11T15:24:02+00:00', 'ptex.fullbanner': 'This is pdfTeX, Version 3.141592653-2.6-1.40.26 (TeX Live 2024) kpathsea version 6.4.0', 'subject': '', 'title': '', 'trapped': '/False', 'source': 'iot_security_report.pdf', 'total_pages': 35, 'page': 4, 'page_label': '4'}, page_content='Chương 1\\nTổng quan về IoT\\n1.1 IoT là gì?\\nInternet of Things (IoT) là một hệ thống gồm các thiết bị được gọi là \"vật\".\\nNhững thiết bị này có các bộ phận điện tử cho phép chúng có khả năng\\ntự động thu thập dữ liệu thông qua cảm biến, xử lý và trao đổi dữ liệu\\nqua mạng. Những thiết bị này có thể là các thiết bị gia dụng đơn giản như\\nrouter hay các thiết bị phức tạp như máy móc công nghiệp quy mô lớn\\nĐặc trưng nổi bật của IoT là tính liên thông năng lượng thấp: mỗi\\nthiết bị IoT sẽ luôn luôn được bật và đều được kết nối và tương tác với các\\nthiết bị IoT khác trong cùng hệ thống. Những giao thức kết nối được sử\\ndụng trong hệ thống IoT cần được tối ưu cho hệ thống năng lượng thấp và\\nít tài nguyên tính toán. Một đặc trưng khác của những thiết bị IoT này là\\ncác thiết bị này có khả năng xử lý và thu thập thông tin trong thời gian\\nthực.\\n1.2 Các thành phần trong hệ thống IoT\\nMột hệ thống IoT sẽ bao gồm nhiều thành phần khác nhau, mỗi thành phần\\nđều có những tác động riêng đến bảo mật của hệ thống. Kiến trúc hệ thống\\nIoT có thể được chia thành 3 tầng: Cảm biến, Mạng và Ứng dụng.\\nTầng Cảm biến:\\n• Gồm các vi điều khiển, cảm biến, bộ truyền động và các giao thức qua\\ndây (UART, JTAG, I2C, v.v.).\\n4'), Document(metadata={'producer': 'pdfTeX-1.40.26', 'creator': 'LaTeX with hyperref', 'creationdate': '2025-06-11T15:24:02+00:00', 'author': '', 'keywords': '', 'moddate': '2025-06-11T15:24:02+00:00', 'ptex.fullbanner': 'This is pdfTeX, Version 3.141592653-2.6-1.40.26 (TeX Live 2024) kpathsea version 6.4.0', 'subject': '', 'title': '', 'trapped': '/False', 'source': 'iot_security_report.pdf', 'total_pages': 35, 'page': 5, 'page_label': '5'}, page_content='• Các thiết bị này rất hạn chế về mặt tài nguyên. Tài nguyên tính toán\\nthấp và bộ nhớ hạn chế đồng nghĩa với việc các biện pháp bảo mật dựa\\ntrên phần mềm như mật mã phải nhẹ và tối ưu.\\nTầng Mạng:\\n• Hệ thống IoT sử dụng nhiều loại giao thức mạng khác nhau cho việc\\ngiao tiếp không dây ở các tầm khoảng cách khác nhau: ngắn, trung và\\ndài.\\n• Một số giao thức mạng IoT phổ biến: Bluetooth Low Energy (BLE),\\nWi-Fi, LoRaWAN, Zigbee, NB-IoT, LTE-M, v.v.\\n• Những giao thức không dây này cần được bảo vệ và mã hóa một cách\\nnghiêm ngặt khỏi các cuộc tấn công mạng.\\nTầng Ứng dụng:\\n• Hầu hết thiết bị IoT đều cần một ứng dụng hoặc giao diện để tương\\ntác: web, ứng dụng di động, ứng dụng desktop. Các ứng dụng này dùng\\ncác giao thức tầng ứng dụng như HTTP/HTTPS, CoAP, MQTT, v.v.\\n• Giống như trong các ứng dụng thông thường, các giao thức này có thể\\nbị kẻ tấn công lợi dụng cho mục đích xấu, đặc biệt là những giao thức\\nthiết kế riêng cho IoT như MQTT. Bên cạnh đó, chính ứng dụng cũng\\ncó thể tồn tại các lỗ hổng tấn công web và app điển hình.\\n5'), Document(metadata={'producer': 'pdfTeX-1.40.26', 'creator': 'LaTeX with hyperref', 'creationdate': '2025-06-11T15:24:02+00:00', 'author': '', 'keywords': '', 'moddate': '2025-06-11T15:24:02+00:00', 'ptex.fullbanner': 'This is pdfTeX, Version 3.141592653-2.6-1.40.26 (TeX Live 2024) kpathsea version 6.4.0', 'subject': '', 'title': '', 'trapped': '/False', 'source': 'iot_security_report.pdf', 'total_pages': 35, 'page': 6, 'page_label': '6'}, page_content='Chương 2\\nCác mối đe dọa về bảo mật\\ntrong IoT\\nHệ sinh thái IoT đã tạo ra một môi trường đe dọa đa tầng. Các mối đe dọa\\nvề mặt bảo mật trong IoT có thể được được phân loại theo các tầng khác\\nnhau trong kiến trúc IoT, đồng thời các phương thức khai thác có các hậu\\nquả khác nhau.\\n2.1 Mối đe dọa tầng cảm biến\\n2.1.1 Khai thác thiết bị vật lý\\nNhiều nhà sản xuất thiết bị IoT thường để lộ chân UART/JTAG hoặc bật\\nchế độ console gỡ lỗi ngay trên thiết bị thương mại. Khi có quyền truy cập vật\\nlý, kẻ tấn công có thể trích xuất dữ liệu từ bộ nhớ flash, trích xuất firmware,\\nchiếm quyền shell root hoặc thậm chí cài đặt firmware có chứa mã độc.\\n2.1.2 Tấn công side-channel\\nBằng cách theo dõi mức tiêu thụ điện năng hay bức xạ điện từ của thiết bị\\nkhi thực hiện các phép toán mã hóa và giải mã, người tấn công có thể chiết\\nxuất khóa bí mật dùng để mã hóa/giải mã hoặc trộm cắp dữ liệu nhạy cảm\\nbên trong.\\n2.1.3 Chỉnh sửa firmware\\nMột người tấn công có thể lợi dụng việc thiếu cơ chế xác thực chặt chẽ trong\\nquá trình cập nhật firmware qua OTA (Over-The-Air). Họ có thể khiến thiết\\n6'), Document(metadata={'producer': 'pdfTeX-1.40.26', 'creator': 'LaTeX with hyperref', 'creationdate': '2025-06-11T15:24:02+00:00', 'author': '', 'keywords': '', 'moddate': '2025-06-11T15:24:02+00:00', 'ptex.fullbanner': 'This is pdfTeX, Version 3.141592653-2.6-1.40.26 (TeX Live 2024) kpathsea version 6.4.0', 'subject': '', 'title': '', 'trapped': '/False', 'source': 'iot_security_report.pdf', 'total_pages': 35, 'page': 7, 'page_label': '7'}, page_content='bị cài đặt firmware đã chỉnh sửa nếu chức năng OTA không có bảo mật tốt.\\nNgoài ra, việc can thiệp trực tiếp qua cổng nạp (flashing) cũng cho phép\\nhacker ghi đè firmware gốc.\\n2.1.4 Ví dụ thực tế\\nVào 2010, các nhà nghiên cứu bảo mật của ETH Zurich đã minh họa cuộc\\ntấn công vào hệ thống Passive Keyless Entry and Start (PKES) của xe hơi.\\nBằng cách sử dụng radio relay để bắt tín hiệu của khóa, họ có thể mở khóa\\nxe mà không cần khóa của người chủ.\\n2.2 Mối đe dọa tầng mạng\\n2.2.1 Tấn công phát lại\\nỞ dạng tấn công này, người tấn công có thể bắt và ghi lại sóng radio phát\\nra từ thiết bị IoT và phát lại sau đó. Điều này cho phép họ thực thi lệnh mà\\nkhông cần xác thực, do thiếu cơ chế mã hóa và token phiên làm việc với thời\\ngian hết hạn ngắn.\\n2.2.2 Man-in-the-Middle (MITM)\\nBằng cách sử dụng spoofing hoặc tạo các điểm truy cập (AP) giả, kẻ xấu có\\nthể đọc và thậm chí thay đổi các gói tin từ giữa các thiết bị. Hậu quả là lộ\\nlọt thông tin hoặc bị chỉnh sửa nội dung ban đầu.\\n2.2.3 Làm nhiễu sóng radio\\nNgười tấn công có thể phát tín hiệu cùng tần số với thiết bị, chặn các gói tin\\ndữ liệu, khiến cảm biến hoặc thiết bị truyền động không nhận được gói tin\\nvà không phản hồi.\\n2.2.4 Denial of Service (DoS)\\nDo hạn chế nặng về tài nguyên, thiết bị IoT có thể dễ dàng bị tấn công DoS.\\nMột cuộc tấn công DoS có thể làm gián đoạn dịch vụ của thiết bị. Với các\\nthiết bị mạng như gateway hay router, DoS thậm chí có thể làm đứt kết nối\\ntoàn bộ hệ thống IoT, gây ra gián đoạn quy mô lớn.\\n7'), Document(metadata={'producer': 'pdfTeX-1.40.26', 'creator': 'LaTeX with hyperref', 'creationdate': '2025-06-11T15:24:02+00:00', 'author': '', 'keywords': '', 'moddate': '2025-06-11T15:24:02+00:00', 'ptex.fullbanner': 'This is pdfTeX, Version 3.141592653-2.6-1.40.26 (TeX Live 2024) kpathsea version 6.4.0', 'subject': '', 'title': '', 'trapped': '/False', 'source': 'iot_security_report.pdf', 'total_pages': 35, 'page': 8, 'page_label': '8'}, page_content='2.2.5 Ví dụ thực tế\\nMirai botnet: Botnet này lợi dụng tính bảo mật kém của các thiết bị IoT.\\nBotnet này lây lan qua nhiều phương thức như mật khẩu mặc định, mã hóa\\nyếu, v.v. Mirai botnet đã thực hiện một số cuộc tấn công DDoS lớn nhất\\ntrên thế giới. Vì mã nguồn đã được công khai, đã xuất hiện nhiều biến thể\\nMirai khác nhau.\\n2.3 Mối đe dọa tầng ứng dụng\\n2.3.1 Xác thực và quản lý session yếu\\nWebsite hoặc ứng dụng di động của hệ thống IoT có thể lưu trữ mật khẩu\\nyếu hoặc quản lý session không đúng cách. Điều này có thể tạo cơ hội cho\\nkẻ tấn công sử dụng brute-force và hijack session.\\n2.3.2 Lỗ hổng web\\nWebsite của thiết bị có thể tồn tại các lỗ hổng như XSS, CSRF, command\\ninjection, broken access control... Điều này cho phép kẻ tấn công leo thang\\nquyền hạn, đào sâu hơn vào hệ thống và rò rỉ thông tin.\\n2.3.3 Ứngdụngmobilelưutrữthôngtinkhôngantoàn\\nỨng dụng di động của hệ thống IoT, nếu có lưu trữ API key, thông tin đăng\\nnhập hay certificate của thiết bị dưới plaintext trên bộ nhớ máy hoặc sử\\ndụng mã hóa hoặc obfuscation kém, sẽ có khả năng bị người tấn công đánh\\ncắp các thông tin này khi điện thoại bị root hoặc mất. Hacker có thể lợi dụng\\nđể truy cập và tấn công hệ thống IoT.\\n2.3.4 Ví dụ thực tế\\nVào 2017, thông tin về người dùng của sản phẩm CloudPets (đồ chơi kết nối\\nvới mạng) đã bị rò rỉ. Sản phẩm này có yêu cầu mật khẩu kém, dễ bị brute\\nforce. Thông tin về người dùng cũng được lưu lại trong database không được\\nbảo vệ tốt, cho phép người tấn công truy cập tuy không được cho phép.\\n8'), Document(metadata={'producer': 'pdfTeX-1.40.26', 'creator': 'LaTeX with hyperref', 'creationdate': '2025-06-11T15:24:02+00:00', 'author': '', 'keywords': '', 'moddate': '2025-06-11T15:24:02+00:00', 'ptex.fullbanner': 'This is pdfTeX, Version 3.141592653-2.6-1.40.26 (TeX Live 2024) kpathsea version 6.4.0', 'subject': '', 'title': '', 'trapped': '/False', 'source': 'iot_security_report.pdf', 'total_pages': 35, 'page': 9, 'page_label': '9'}, page_content='Chương 3\\nCác phương pháp khai thác IoT\\nSau đây là một số phương pháp khai thác hệ thống IoT. Những phương pháp\\nnày đã được liệt kê trong danh sách OWASP IoT Top 10.\\n3.1 Mật khẩu yếu, dễ đoán\\nNhiều thiết bị IoT sử dụng mật khẩu yếu, dễ bị brute-force, có thể bị tìm\\ntrên mạng. Hơn nữa, một số thiết bị hardcode mật khẩu một bộ phận nào\\ncủa thiết bị như firmware, dẫn đến khả năng người tấn công có khả năng\\ntrích xuất mật khẩu từ bộ phận đó của thiết bị. Hậu quả là các người tấn\\ncông có thể truy cập vào thiết bị đó mà không được phép.\\n9'), Document(metadata={'producer': 'pdfTeX-1.40.26', 'creator': 'LaTeX with hyperref', 'creationdate': '2025-06-11T15:24:02+00:00', 'author': '', 'keywords': '', 'moddate': '2025-06-11T15:24:02+00:00', 'ptex.fullbanner': 'This is pdfTeX, Version 3.141592653-2.6-1.40.26 (TeX Live 2024) kpathsea version 6.4.0', 'subject': '', 'title': '', 'trapped': '/False', 'source': 'iot_security_report.pdf', 'total_pages': 35, 'page': 10, 'page_label': '10'}, page_content='3.2 Dịch vụ mạng không an toàn\\nNhững dịch vụ mạng không cần thiết hoặc không an toàn chạy trên thiết\\nbị là một điểm yếu trầm trọng, nhất là các dịch vụ có kết nối với Internet.\\nNgười tấn công có thể trích xuất thông tin nhạy cảm, tấn công các hệ thống\\nkhác có kết nối với thiết bị đã bị tấn công, hoặc truy cập vào thiết bị mà\\nkhông được phép.\\n3.3 Giao diện ecosystem không an toàn\\nCác giao diện web, API, cloud, hoặc di động cho các thiết bị IoT nếu không\\nđược bảo vệ an toàn (thiếu xác thực, mã hóa, filter đầu vào và ra) có thể sẽ\\nmở ra hướng tấn công vào thiết bị hoặc các bộ phận trong thiết bị đó.\\n3.4 Không có cơ chế cập nhật an toàn\\nNếu thiết bị không có cơ chế cập nhật an toàn (Xác thực firmware, mã hóa\\ntrong lúc chuyển giao firmware, cơ chế chống rollback, thông báo người dùng\\nvề cập nhật firmware) thì các thiết bị này có khả năng bị tấn công chỉnh sửa\\nfirmware và các bộ phận hệ thống quan trọng.\\n3.5 Sử dụng thành phần phiên bản cũ, thiếu\\nan toàn\\nViệc sử dụng các bộ phận phần mềm và thư viện cũ, thiếu an toàn sẽ cho\\nphép người tấn công khai thác các lỗ hổng đã có trong các phiên bản cũ và\\nthiếu an toàn đó. Thêm nữa, thiết bị IoT cũng có thể sử dụng phần cứng từ\\nmột supply chain đã bị tấn công.\\n3.6 Bảo vệ quyền riêng tư không đầy đủ\\nMột số thiết bị thu thập thông tin cá nhân của người dùng trong thiết bị\\nhoặc hệ sinh thái và được sử dụng một cách không an toàn và không được\\nngười dùng cho phép. Những thiết bị này cần bảo vệ quyền riêng tư theo tiêu\\nchuẩn quốc tế.\\n10'), Document(metadata={'producer': 'pdfTeX-1.40.26', 'creator': 'LaTeX with hyperref', 'creationdate': '2025-06-11T15:24:02+00:00', 'author': '', 'keywords': '', 'moddate': '2025-06-11T15:24:02+00:00', 'ptex.fullbanner': 'This is pdfTeX, Version 3.141592653-2.6-1.40.26 (TeX Live 2024) kpathsea version 6.4.0', 'subject': '', 'title': '', 'trapped': '/False', 'source': 'iot_security_report.pdf', 'total_pages': 35, 'page': 11, 'page_label': '11'}, page_content='3.7 Cơ chế truyền và lưu trữ dữ liệu không\\nan toàn\\nThiếu mã hóa và access control cho các dữ liệu nhạy cảm trong hệ sinh thái\\nIoT (bao gồm dữ liệu at rest, in transit, và during processing), dẫn đến người\\ntấn công có thể thu thập các dữ liệu nhạy cảm này.\\n3.8 Không có quản lý thiết bị\\nKhông quản lý tốt về mọi mặt của thiết bị (quản lý update, giám sát thiết\\nbị, loại bỏ thiết bị một cách an toàn), các thiết bị IoT có thể dẫn đến cả hệ\\nthống mạng bị tấn công. Việc quản lý thiết bị cần được bảo mật tốt, nếu\\nkhông thì có thể dẫn đến truy cập trái phép, chỉnh sửa cấu hình và firmware,\\nhoặc điều khiển thiết bị.\\n3.9 Cấu hình mặc định không an toàn\\nCác thiết bị hoặc hệ thống IoT không có cấu hình mặc định an toàn hoặc\\nkhông có cơ chế chỉnh sửa cấu hình của thiết bị sẽ dẫn đến rủi ro về mặt bảo\\nmật cao, cho phép người tấn công truy cập trái phép vào thiết bị. Những cấu\\nhình này có thể là thông tin đăng nhập, cổng được mở, protocol giao tiếp\\nkhông được mã hóa hoặc mã hóa kém.\\n3.10 Không có sự kiên cố về mặt vật lý\\nSự kiên cố về mặt vật lý, phần cứng cho các thiết bị IoT là một yếu tố cần\\nthiết. Người tấn công có thể trích xuất thông tin nhạy cảm như khóa bí mật\\ntừ thiết bị bằng các phương pháp tấn công phần cứng và sử dụng thông tin\\nnày cho các cuộc tấn công từ xa hoặc tấn công chiếm quyền điều khiển thiết\\nbị.\\n11'), Document(metadata={'producer': 'pdfTeX-1.40.26', 'creator': 'LaTeX with hyperref', 'creationdate': '2025-06-11T15:24:02+00:00', 'author': '', 'keywords': '', 'moddate': '2025-06-11T15:24:02+00:00', 'ptex.fullbanner': 'This is pdfTeX, Version 3.141592653-2.6-1.40.26 (TeX Live 2024) kpathsea version 6.4.0', 'subject': '', 'title': '', 'trapped': '/False', 'source': 'iot_security_report.pdf', 'total_pages': 35, 'page': 12, 'page_label': '12'}, page_content='Chương 4\\nMinh họa\\n4.1 Thiết bị được sử dụng\\nThiết bị được sử dụng cho minh họa các lỗ hổng trên hệ thống IoT là thiết\\nbị router DIR-820L của D-Link. Thiết bị này là một thiết bị router được sản\\nxuất từ năm 2013. Dự án này sẽ minh họa 5 lỗ hổng khác nhau còn tồn tại\\ntrên firmware mới nhất của thiết bị này.\\n12'), Document(metadata={'producer': 'pdfTeX-1.40.26', 'creator': 'LaTeX with hyperref', 'creationdate': '2025-06-11T15:24:02+00:00', 'author': '', 'keywords': '', 'moddate': '2025-06-11T15:24:02+00:00', 'ptex.fullbanner': 'This is pdfTeX, Version 3.141592653-2.6-1.40.26 (TeX Live 2024) kpathsea version 6.4.0', 'subject': '', 'title': '', 'trapped': '/False', 'source': 'iot_security_report.pdf', 'total_pages': 35, 'page': 13, 'page_label': '13'}, page_content='4.2 Setup môi trường\\nCác công cụ được sử dụng:\\n• FirmAE: Công cụ tự động hóa quá trình trích xuất và thiết lập tiến\\ntrình mô phỏng cho firmware của các thiết bị IoT.\\n• Binwalk: Công cụ trích xuất hệ thống file được chứa trong firmware.\\n• Firmware mod kit (fmk): Công cụ cho phép trích xuất, chỉnh sửa,\\nvà gói lại hệ thống file của firmware.\\n• Ghidra: Công cụ dịch ngược mã nguồn mở với hỗ trợ cho các cấu trúc\\nvi xử lý trong IoT như ARM và MIPS.\\n• Burp Suite: Công cụ với nhiều tính năng giúp phân tích các gói tin\\nHTTP/HTTPS mạng.\\nMôi trường máy ảo:\\n13'), Document(metadata={'producer': 'pdfTeX-1.40.26', 'creator': 'LaTeX with hyperref', 'creationdate': '2025-06-11T15:24:02+00:00', 'author': '', 'keywords': '', 'moddate': '2025-06-11T15:24:02+00:00', 'ptex.fullbanner': 'This is pdfTeX, Version 3.141592653-2.6-1.40.26 (TeX Live 2024) kpathsea version 6.4.0', 'subject': '', 'title': '', 'trapped': '/False', 'source': 'iot_security_report.pdf', 'total_pages': 35, 'page': 14, 'page_label': '14'}, page_content='4.3 Phân tích firmware\\nKết quả phân tích firmware bằng công cụbinwalk cho thấy hệ thống tập\\ntin SquashFS ẩn bên trong firmware. SquashFS là hệ thống tập tin phổ biến\\ntrên các thiết bị nhúng, chủ yếu được sử dụng cho phân vùng root vì tính\\nchất read-only của nó giúp giảm nguy cơ thiết bị bị hỏng do các thay đổi\\nkhông mong muốn lên hệ thống tập tin gốc.\\n14'), Document(metadata={'producer': 'pdfTeX-1.40.26', 'creator': 'LaTeX with hyperref', 'creationdate': '2025-06-11T15:24:02+00:00', 'author': '', 'keywords': '', 'moddate': '2025-06-11T15:24:02+00:00', 'ptex.fullbanner': 'This is pdfTeX, Version 3.141592653-2.6-1.40.26 (TeX Live 2024) kpathsea version 6.4.0', 'subject': '', 'title': '', 'trapped': '/False', 'source': 'iot_security_report.pdf', 'total_pages': 35, 'page': 15, 'page_label': '15'}, page_content='Chúng ta có thể trích xuất hệ thống file SquashFS này bằng tính năng trích\\nxuất của binwalk\\nFile shadow có chứa bản hash của mật khẩu người dùng root. Sau khi chạy\\n15'), Document(metadata={'producer': 'pdfTeX-1.40.26', 'creator': 'LaTeX with hyperref', 'creationdate': '2025-06-11T15:24:02+00:00', 'author': '', 'keywords': '', 'moddate': '2025-06-11T15:24:02+00:00', 'ptex.fullbanner': 'This is pdfTeX, Version 3.141592653-2.6-1.40.26 (TeX Live 2024) kpathsea version 6.4.0', 'subject': '', 'title': '', 'trapped': '/False', 'source': 'iot_security_report.pdf', 'total_pages': 35, 'page': 16, 'page_label': '16'}, page_content='file này quajohn the ripper, mật khẩu của người dùng root đã được phá,\\nmật khẩu này làroot.\\nFile khởi độngrcS cho thấy firmware sẽ khởi tạo hai dịch vụbulkListen\\nvà ncc2 khi thiết bị bắt đầu hoạt động. Dịch vụncc2 được sử dụng để xử\\nlý các yêu cầu theo chuẩnCommon Gateway Interface (CGI). CGI là\\nmột chuẩn giao tiếp cho phép máy chủ web thực thi các chương trình bên\\nngoài để xử lý các yêu cầu HTTP/HTTPS. Tập tin thực thi củancc2 có\\nthể được tìm thấy tại thư mục/sbin.\\n16'), Document(metadata={'producer': 'pdfTeX-1.40.26', 'creator': 'LaTeX with hyperref', 'creationdate': '2025-06-11T15:24:02+00:00', 'author': '', 'keywords': '', 'moddate': '2025-06-11T15:24:02+00:00', 'ptex.fullbanner': 'This is pdfTeX, Version 3.141592653-2.6-1.40.26 (TeX Live 2024) kpathsea version 6.4.0', 'subject': '', 'title': '', 'trapped': '/False', 'source': 'iot_security_report.pdf', 'total_pages': 35, 'page': 17, 'page_label': '17'}, page_content='Firmware chạy trên kiến trúc MIPSEB 32-bit. Công cụ dịch ngược Ghidra,\\nmột công cụ mã nguồn mở với khả năng hỗ trợ tốt cho kiến trúc MIPS, đã\\nđược chọn và sử dụng cho các phần dịch ngược của dự án này.\\nCông cụ checksec cũng báo rằng file nhị phân ncc2 này cũng không\\ncó các chức năng bảo vệ lỗ hổng overflow. File này cũng không có biểu tượng\\ndebug, làm cho công đoạn dịch ngược khó hơn.\\n17'), Document(metadata={'producer': 'pdfTeX-1.40.26', 'creator': 'LaTeX with hyperref', 'creationdate': '2025-06-11T15:24:02+00:00', 'author': '', 'keywords': '', 'moddate': '2025-06-11T15:24:02+00:00', 'ptex.fullbanner': 'This is pdfTeX, Version 3.141592653-2.6-1.40.26 (TeX Live 2024) kpathsea version 6.4.0', 'subject': '', 'title': '', 'trapped': '/False', 'source': 'iot_security_report.pdf', 'total_pages': 35, 'page': 18, 'page_label': '18'}, page_content='4.4 Các lỗ hổng được khai thác\\n4.4.1 Command injection trong tính năng chuẩn đoán\\nping\\nLỗ hổng này có mã CVE là CVE-2024-51186. Đây là lỗ hổng trong dịch vụ\\nncc2 của thiết bị này. Trong dịch vụncc2 này, có một endpoint xử lý CGI\\nrequest là ping.ccp. Endpoint này cho phép chuẩn đoán các thiết bị qua\\nmạng bằng cách \"ping\"các thiết bị đó.\\n18'), Document(metadata={'producer': 'pdfTeX-1.40.26', 'creator': 'LaTeX with hyperref', 'creationdate': '2025-06-11T15:24:02+00:00', 'author': '', 'keywords': '', 'moddate': '2025-06-11T15:24:02+00:00', 'ptex.fullbanner': 'This is pdfTeX, Version 3.141592653-2.6-1.40.26 (TeX Live 2024) kpathsea version 6.4.0', 'subject': '', 'title': '', 'trapped': '/False', 'source': 'iot_security_report.pdf', 'total_pages': 35, 'page': 19, 'page_label': '19'}, page_content='Request tớiping.ccp trong Burp Suite:\\nHàm FUN_0049e128 sẽ xử lý các POST request tớiping.ccp. Hàm này\\nsẽ lấy địa chỉ ping từ tham sốping_addr trong request.\\n19'), Document(metadata={'producer': 'pdfTeX-1.40.26', 'creator': 'LaTeX with hyperref', 'creationdate': '2025-06-11T15:24:02+00:00', 'author': '', 'keywords': '', 'moddate': '2025-06-11T15:24:02+00:00', 'ptex.fullbanner': 'This is pdfTeX, Version 3.141592653-2.6-1.40.26 (TeX Live 2024) kpathsea version 6.4.0', 'subject': '', 'title': '', 'trapped': '/False', 'source': 'iot_security_report.pdf', 'total_pages': 35, 'page': 20, 'page_label': '20'}, page_content='Địa chỉ ping được đưa qua hàm hasInjectionString, nhập từ thư viện\\nlibleopard.so. Hàm này kiểm tra sự tồn tại của bốn ký tự thường dùng\\ncho command injection: \"‘\", \"\\\\\", \";\", \"’\"và kern.03em\". Nếu hàm này phát\\nhiện bất kỳ ký tự nào trong số này trong đầu vào của người dùng thì yêu\\ncầu sẽ không được xử lý.\\n20'), Document(metadata={'producer': 'pdfTeX-1.40.26', 'creator': 'LaTeX with hyperref', 'creationdate': '2025-06-11T15:24:02+00:00', 'author': '', 'keywords': '', 'moddate': '2025-06-11T15:24:02+00:00', 'ptex.fullbanner': 'This is pdfTeX, Version 3.141592653-2.6-1.40.26 (TeX Live 2024) kpathsea version 6.4.0', 'subject': '', 'title': '', 'trapped': '/False', 'source': 'iot_security_report.pdf', 'total_pages': 35, 'page': 21, 'page_label': '21'}, page_content='Hàm hasInjectionString không kiểm tra hết mọi ký tự tách lệnh. Một\\nngười tấn công có thể chèn lệnh thông qua ký tự xuống dòng \\\\n (hex\\n0x0A). Từ lỗ hổng này, chúng ta có thể thực hiện chèn lệnh để tạo một\\nbind shell bằngtelnet mở ở cổng 9999.\\nĐể có thể phòng chống lỗ hổng này, hàmhasInjectionString cần black list\\ntổng quan hơn, bao gồm nhiều kí tự injection hơn. Chúng ta cũng có thể\\nchuyển sang sử dụng white list thay vì black list và chỉ tập trung vào các kí\\ntự được cho phép trong một địa chỉ IP.\\n4.4.2 Denial of Service bằng buffer overflow trong tính\\nnăng hủy ping\\nLỗ hổng này có mã CVE là CVE-2023-25281. HàmFUN_0049e5b0 chứa\\nlỗ hổng buffer overflow. Khi hàm này sao chép chuỗi từ tham sốnextPage\\nvào vùng đệmacStack_118, nó sử dụngstrcpy mà không kiểm tra độ dài\\nchuỗi đầu vào.\\n21'), Document(metadata={'producer': 'pdfTeX-1.40.26', 'creator': 'LaTeX with hyperref', 'creationdate': '2025-06-11T15:24:02+00:00', 'author': '', 'keywords': '', 'moddate': '2025-06-11T15:24:02+00:00', 'ptex.fullbanner': 'This is pdfTeX, Version 3.141592653-2.6-1.40.26 (TeX Live 2024) kpathsea version 6.4.0', 'subject': '', 'title': '', 'trapped': '/False', 'source': 'iot_security_report.pdf', 'total_pages': 35, 'page': 22, 'page_label': '22'}, page_content='Lỗ hổng này có thể gây ra DoS vào dịch vụncc2. Để có thể khai thác lỗ\\nhổng này, đầu vào sẽ cần một chuỗi với ít nhất 288 kí tự\\nĐể có thể sửa lỗ hổng này,FUN_0049e5b0 cần có kiểm tra độ dài của\\nchuỗi đầu vào hoặc sử dụngstrncpy để copy chuỗi.\\n22'), Document(metadata={'producer': 'pdfTeX-1.40.26', 'creator': 'LaTeX with hyperref', 'creationdate': '2025-06-11T15:24:02+00:00', 'author': '', 'keywords': '', 'moddate': '2025-06-11T15:24:02+00:00', 'ptex.fullbanner': 'This is pdfTeX, Version 3.141592653-2.6-1.40.26 (TeX Live 2024) kpathsea version 6.4.0', 'subject': '', 'title': '', 'trapped': '/False', 'source': 'iot_security_report.pdf', 'total_pages': 35, 'page': 23, 'page_label': '23'}, page_content='4.4.3 Command injection trong tính năng DDNS\\ncheck\\nLỗ hổng này có mã CVE là CVE-2021-45382. Endpointddns_check.ccp\\ncó lỗ hổng dẫn tới command injection. Hàmcallback_ccp_ddns_check\\nlà hàm xử lý các request tớiddns_check.ccp.\\nHàm doCheck (được sử dụng khi tham số ccp_act trong request tới\\nddns_check.ccp được set thànhdoCheck) sẽ thu thập thông tin DDNS\\nlà đầu vào: Tên host, tên người dùng, mật khẩu.\\nNhững tham số này sẽ được đưa vào hàm system. Hàm này sẽ chạy\\nddns_check.cđể xử lý request.\\n23'), Document(metadata={'producer': 'pdfTeX-1.40.26', 'creator': 'LaTeX with hyperref', 'creationdate': '2025-06-11T15:24:02+00:00', 'author': '', 'keywords': '', 'moddate': '2025-06-11T15:24:02+00:00', 'ptex.fullbanner': 'This is pdfTeX, Version 3.141592653-2.6-1.40.26 (TeX Live 2024) kpathsea version 6.4.0', 'subject': '', 'title': '', 'trapped': '/False', 'source': 'iot_security_report.pdf', 'total_pages': 35, 'page': 24, 'page_label': '24'}, page_content='Hàm doCheck này không có bất kì chức nănng nào để kiểm tra xem đầu\\nvào có bị command injection hay không. Vậy nênddns_check.ccp bị lỗ\\nhổng command injection. Dưới đây là minh họa một payload mở dịch vụ\\ntelnet trên cổng 9999. Scan Nmap của router cho thấy rằng cổng 9999 đã\\nđược mở và có dịch vụ là telnet.\\n4.4.4 Kiểm soát truy cập kém\\nThiết bị DIR-820L không có access control an toàn. Các CGI request không\\nxác thực session người dùng trước khi xử lý. Thiết bị này chỉ có một cookie\\nlà hasLogin có giá trị là 0 hoặc 1. Một người tấn công có thể bắt các\\nrequest của thiết bị này, chỉnh sửa nó, và gửi đến thiết bị. Bởi vì không có\\ntoken xác thực người dùng, thiết bị này sẽ xử lý bất kì request nào, kể cả\\nrequest không đến từ người dùng, cho phép người tấn công chỉnh sửa cấu\\nhình của máy đó.\\nChức năng chỉnh sửa mật khẩu admin sẽ được sử dụng để minh họa\\n24'), Document(metadata={'producer': 'pdfTeX-1.40.26', 'creator': 'LaTeX with hyperref', 'creationdate': '2025-06-11T15:24:02+00:00', 'author': '', 'keywords': '', 'moddate': '2025-06-11T15:24:02+00:00', 'ptex.fullbanner': 'This is pdfTeX, Version 3.141592653-2.6-1.40.26 (TeX Live 2024) kpathsea version 6.4.0', 'subject': '', 'title': '', 'trapped': '/False', 'source': 'iot_security_report.pdf', 'total_pages': 35, 'page': 25, 'page_label': '25'}, page_content='lỗ hổng này. Hàm FUN_00451208 là hàm xử lý request tới chỉnh sửa\\nthông tin cấu hình trong thiết bị.\\nMật khẩu mặc định sẽ được đọc từ file cấu hình/sbin/defaultCfg.txt.\\nKhi mà firmware được load vào thiết bị và bắt đầu thực thi, file cấu hình đó\\nsẽ được copy vào/var/tmp/cfg.txt. Bất kì chỉnh sửa về cấu hình nào sẽ\\nđược ghi vào filecfg.txt này.\\n25'), Document(metadata={'producer': 'pdfTeX-1.40.26', 'creator': 'LaTeX with hyperref', 'creationdate': '2025-06-11T15:24:02+00:00', 'author': '', 'keywords': '', 'moddate': '2025-06-11T15:24:02+00:00', 'ptex.fullbanner': 'This is pdfTeX, Version 3.141592653-2.6-1.40.26 (TeX Live 2024) kpathsea version 6.4.0', 'subject': '', 'title': '', 'trapped': '/False', 'source': 'iot_security_report.pdf', 'total_pages': 35, 'page': 26, 'page_label': '26'}, page_content='Dịch vụ ncc2 không kiểm tra danh tính người dùng. Một người tấn\\ncông có thể gửi một request tới get_set.ccp mà không cần đăng nhập\\nhoặc biết mật khẩu cũ và vẫn có thể thay đổi mật khẩu admin. Hàm\\npure_SetDeviceSettings xử lý request thay đổi mật khẩu admin.\\nHàm này sẽ sử dụng sendEvent để điều chỉnh file cấu hình trong\\n/var/tmp.\\n26'), Document(metadata={'producer': 'pdfTeX-1.40.26', 'creator': 'LaTeX with hyperref', 'creationdate': '2025-06-11T15:24:02+00:00', 'author': '', 'keywords': '', 'moddate': '2025-06-11T15:24:02+00:00', 'ptex.fullbanner': 'This is pdfTeX, Version 3.141592653-2.6-1.40.26 (TeX Live 2024) kpathsea version 6.4.0', 'subject': '', 'title': '', 'trapped': '/False', 'source': 'iot_security_report.pdf', 'total_pages': 35, 'page': 27, 'page_label': '27'}, page_content='Dịch vụ ncc2 không có chức năng kiểm tra session người dùng hoặc kiểm\\ntra mật khẩu cũ trước khi cho phép thay đổi cấu hình. Dưới đây là một\\nrequest thay đổi mật khẩu gửi từ máy attacker.\\nRequest này khi gửi tới router thì sẽ thay đổi file cấu hình. Dưới đây là file\\ncấu hình đã được thay đổi sau khi request trên được gửi tới router:\\n27'), Document(metadata={'producer': 'pdfTeX-1.40.26', 'creator': 'LaTeX with hyperref', 'creationdate': '2025-06-11T15:24:02+00:00', 'author': '', 'keywords': '', 'moddate': '2025-06-11T15:24:02+00:00', 'ptex.fullbanner': 'This is pdfTeX, Version 3.141592653-2.6-1.40.26 (TeX Live 2024) kpathsea version 6.4.0', 'subject': '', 'title': '', 'trapped': '/False', 'source': 'iot_security_report.pdf', 'total_pages': 35, 'page': 28, 'page_label': '28'}, page_content='Để có thể chống lỗ hổng này, thiết bị này cần thiết lập quản lý session người\\ndùng tốt để phòng chống attacker gửi các request không được xác thực. Hơn\\nnữa, thiết bị này cần yêu cầu mật khẩu cũ khi thay đổi những các cấu hình\\nquan trọng như mật khẩu của tài khoản admin.\\n4.4.5 Chỉnh sửa firmware\\nPhương pháp khai thác này có thể được thực hiện nếu firmware không\\nđược mã hoắ và thiết bị không sử dụng secure boot. Nếu như một người\\ntấn công có thể tiếp xúc trực tiếp với thiết bị thì họ có thể chỉnh sửa\\nfirmware. Họ sẽ trích xuất firmware của thiết bị, giải nén firmware đó, chỉnh\\nsửa với mã độc của mình, và flash firmware đã được chỉnh sửa đó lên thiết bị.\\nFirmware của thiết bị này có thể được tải trên mạng qua link này.\\nFirmware này có thể được điều chỉnh bằng công cụ Firmware Mod Kit (fmk)\\nvà flash lên thiết bị. Đầu tiên, fmk sẽ trích xuất hệ thống file SquashFS\\ntrong firmware rafmk/rootfs.\\n28'), Document(metadata={'producer': 'pdfTeX-1.40.26', 'creator': 'LaTeX with hyperref', 'creationdate': '2025-06-11T15:24:02+00:00', 'author': '', 'keywords': '', 'moddate': '2025-06-11T15:24:02+00:00', 'ptex.fullbanner': 'This is pdfTeX, Version 3.141592653-2.6-1.40.26 (TeX Live 2024) kpathsea version 6.4.0', 'subject': '', 'title': '', 'trapped': '/False', 'source': 'iot_security_report.pdf', 'total_pages': 35, 'page': 29, 'page_label': '29'}, page_content='Sau khi đã trích xuất hệ thống file, chúng ta có thể thay đổi firmware hoặc\\nđưa mã độc vào firmware. FilercS trong /etc/init.d được sử dụng để chạy\\nchương trình tại thời gian boot. Để minh họa, filercS này đã chỉnh sửa sẽ\\nmở dịch vụ telnet ở cổng 9999.\\nSau khi chỉnh sửa firmware xong thì chúng ta có thể dùng fmk để nén hệ\\n29'), Document(metadata={'producer': 'pdfTeX-1.40.26', 'creator': 'LaTeX with hyperref', 'creationdate': '2025-06-11T15:24:02+00:00', 'author': '', 'keywords': '', 'moddate': '2025-06-11T15:24:02+00:00', 'ptex.fullbanner': 'This is pdfTeX, Version 3.141592653-2.6-1.40.26 (TeX Live 2024) kpathsea version 6.4.0', 'subject': '', 'title': '', 'trapped': '/False', 'source': 'iot_security_report.pdf', 'total_pages': 35, 'page': 30, 'page_label': '30'}, page_content='thống file này thành một file.bin.\\nVới firmware đã được chỉnh sửa, chúng ta có thể flash cái firmware này lên\\nthiết bị qua tính năng emergency flash của D-Link. Hiện tại, em không có\\nthiết bị thật thế nên em sẽ mô phỏng firmware đã được chỉnh sửa này.\\nVới firmware này, người tấn công cần ở chung mạng với router. Để có thể kết\\n30'), Document(metadata={'producer': 'pdfTeX-1.40.26', 'creator': 'LaTeX with hyperref', 'creationdate': '2025-06-11T15:24:02+00:00', 'author': '', 'keywords': '', 'moddate': '2025-06-11T15:24:02+00:00', 'ptex.fullbanner': 'This is pdfTeX, Version 3.141592653-2.6-1.40.26 (TeX Live 2024) kpathsea version 6.4.0', 'subject': '', 'title': '', 'trapped': '/False', 'source': 'iot_security_report.pdf', 'total_pages': 35, 'page': 31, 'page_label': '31'}, page_content='nối qua Internet, firmware cần có một chương trình backdoor có khả năng\\nmở reverse shell tới server của người tấn công bằngnetcat. Bảnbusybox\\ncủa firmware này không cónetcat, vậy nên chúng ta sẽ cần import một\\nphiên bảnbusyboxcho kiến trúc MIPSEB có bao gồmnetcatvào firmware\\nnày. Em đã sử dụngbusybox v1.21.1 cho MIPSEB.\\nSau khi import busybox vào hệ thống file của firmware, chúng ta có\\nthể tạo một script mở reverse shell trong firmware. Script này sẽ check kết\\nnối internet và chỉ mở reverse shell nếu như có kết nối Internet. Nếu có kết\\nnối Internet thìnetcat sẽ kết nối tới địa chỉ IP trong script ở cổng 4444 và\\nmở shell/bin/sh.\\nMô phỏng firmware này thì chúng ta có thể thấy được là firmware sẽ kết nối\\ntới cổng 4444 bằng netcat.\\n31'), Document(metadata={'producer': 'pdfTeX-1.40.26', 'creator': 'LaTeX with hyperref', 'creationdate': '2025-06-11T15:24:02+00:00', 'author': '', 'keywords': '', 'moddate': '2025-06-11T15:24:02+00:00', 'ptex.fullbanner': 'This is pdfTeX, Version 3.141592653-2.6-1.40.26 (TeX Live 2024) kpathsea version 6.4.0', 'subject': '', 'title': '', 'trapped': '/False', 'source': 'iot_security_report.pdf', 'total_pages': 35, 'page': 32, 'page_label': '32'}, page_content='Để có thể chống phương pháp khai thác này, firmware cần được mã hóa.\\nThiết bị IoT cũng có thể sử dụngTPM (Trusted Platform Module) cho\\ncông đoạn giải mã và mã hóa. Thiết bị này cũng có thể sử dụng secure boot\\nđể chống việc load firmware không có chữ ký hợp lệ.\\n32'), Document(metadata={'producer': 'pdfTeX-1.40.26', 'creator': 'LaTeX with hyperref', 'creationdate': '2025-06-11T15:24:02+00:00', 'author': '', 'keywords': '', 'moddate': '2025-06-11T15:24:02+00:00', 'ptex.fullbanner': 'This is pdfTeX, Version 3.141592653-2.6-1.40.26 (TeX Live 2024) kpathsea version 6.4.0', 'subject': '', 'title': '', 'trapped': '/False', 'source': 'iot_security_report.pdf', 'total_pages': 35, 'page': 33, 'page_label': '33'}, page_content='Chương 5\\nKết luận\\nBảo mật cho IoT là một thách thức do hàng tỷ thiết bị kết nối, từ bộ điều\\nnhiệt gia đình đến cảm biến công nghiệp, ngày càng gia tăng. Những thiết bị\\nnày thường gặp phải các vấn đề như xác thực yếu, kênh truyền không được\\nmã hóa và cơ chế cập nhật firmware không an toàn, tất cả đều mở đường\\ncho các cuộc tấn công như MITM, phát lại gói tin, can thiệp vào firmware\\nvà dò mật khẩu. Dự án này đã thảo luận về các mối đe dọa IoT, xác định\\ncác phương thức khai thác thực tiễn. Các lỗ hổng trên router DIR-820L\\nđã minh họa rủi ro lớn trong thiết bị IoT và các điểm yếu cần được khắc phục.\\nĐể bảo mật được hệ sinh thái IoT đòi hỏi một cách tiếp cận tổng\\nthể trên nhiều thành phần của hệ thống. Dự án với thiết bị D-Link\\nDIR-820L cho thấy các cách các thiết bị IoT có thể bị khai thác và cách bảo\\nvệ các thiết bị này khỏi những cuộc tấn công này, mở hướng cho các triển\\nkhai IoT an toàn và bền vững hơn.\\n33'), Document(metadata={'producer': 'pdfTeX-1.40.26', 'creator': 'LaTeX with hyperref', 'creationdate': '2025-06-11T15:24:02+00:00', 'author': '', 'keywords': '', 'moddate': '2025-06-11T15:24:02+00:00', 'ptex.fullbanner': 'This is pdfTeX, Version 3.141592653-2.6-1.40.26 (TeX Live 2024) kpathsea version 6.4.0', 'subject': '', 'title': '', 'trapped': '/False', 'source': 'iot_security_report.pdf', 'total_pages': 35, 'page': 34, 'page_label': '34'}, page_content='Tài liệu tham khảo\\n34')]\n"
     ]
    }
   ],
   "source": [
    "print(documents[:50])"
   ]
  },
  {
   "cell_type": "markdown",
   "id": "ed3759cf",
   "metadata": {},
   "source": [
    "[bkai-foundation-model 2024](https://huggingface.co/bkai-foundation-models/vietnamese-bi-encoder)"
   ]
  },
  {
   "cell_type": "code",
   "execution_count": 33,
   "id": "2c6028fb",
   "metadata": {},
   "outputs": [],
   "source": [
    "embeddings = HuggingFaceEmbeddings(\n",
    "    model_name = \"bkai-foundation-models/vietnamese-bi-encoder\",\n",
    "    model_kwargs = {'device': 'cuda'},\n",
    "    encode_kwargs = {'normalize_embeddings': True}\n",
    ") # convert text to vector (not chunking yet)"
   ]
  },
  {
   "cell_type": "code",
   "execution_count": 34,
   "id": "ef3bda34",
   "metadata": {},
   "outputs": [
    {
     "name": "stdout",
     "output_type": "stream",
     "text": [
      "Number of sementic chunks: 50\n"
     ]
    }
   ],
   "source": [
    "# runtime:\n",
    "# + bkai-foundation-models/vietnamese-bi-encoder: 3 mins\n",
    "# + keepitreal/vietnamese-sbert: 3mins\n",
    "semantic_splitter = SemanticChunker(\n",
    "    embeddings=embeddings,\n",
    "    buffer_size=1, # total sentence collected before perform text split\n",
    "    breakpoint_threshold_type='percentile', # set splitting style: 'percentage' of similarity\n",
    "    breakpoint_threshold_amount=95, # split text if similarity score > 95%\n",
    "    min_chunk_size=500,\n",
    "    add_start_index=True, # assign index for chunk\n",
    ")\n",
    "\n",
    "docs = semantic_splitter.split_documents(documents)\n",
    "print(\"Number of sementic chunks:\", len(docs))"
   ]
  },
  {
   "cell_type": "code",
   "execution_count": 35,
   "id": "d26c703e",
   "metadata": {},
   "outputs": [],
   "source": [
    "vector_db = Chroma.from_documents(documents=docs,\n",
    "                                embedding=embeddings)\n",
    "\n",
    "retriever = vector_db.as_retriever()"
   ]
  },
  {
   "cell_type": "code",
   "execution_count": 36,
   "id": "af0718fb",
   "metadata": {},
   "outputs": [
    {
     "name": "stdout",
     "output_type": "stream",
     "text": [
      "Num of relevant documents:  4\n",
      "\n",
      "📄 Documellmnt 1\n",
      "------------------------------------------------------------\n",
      "📄 Page       : 4\n",
      "📝 Content    :\n",
      "Chương 1\n",
      "Tổng quan về IoT\n",
      "1.1 IoT là gì? Internet of Things (IoT) là một hệ thống gồm các thiết bị được gọi là \"vật\". Những thiết bị này có các bộ phận điện tử cho phép chúng có khả năng\n",
      "tự động thu thập dữ liệu thông qua cảm biến, xử lý và trao đổi dữ liệu\n",
      "qua mạng. Những thiết bị này có thể là các thiết bị gia dụng đơn giản như\n",
      "router hay các thiết bị phức tạp như máy móc công nghiệp quy mô lớn\n",
      "Đặc trưng nổi bật của IoT là tính liên thông năng lượng thấp: mỗi\n",
      "thiết bị IoT sẽ luôn luôn được bật và đều được kết nối và tương tác với các\n",
      "thiết bị IoT khác trong cùng hệ thống. Những giao thức kết nối được sử\n",
      "dụng trong hệ thống IoT cần được tối ưu cho hệ thống năng lượng thấp và\n",
      "ít tài nguyên tính toán. Một đặc trưng khác của những thiết bị IoT này là\n",
      "các thiết bị này có khả năng xử lý và thu thập thông tin trong thời gian\n",
      "thực. 1.2 Các thành phần trong hệ thống IoT\n",
      "Một hệ thống IoT sẽ bao gồm nhiều thành phần khác nhau, mỗi thành phần\n",
      "đều có những tác động riêng đến bảo mật của hệ thống. Kiến trúc hệ thống\n",
      "IoT có thể được chia thành 3 tầng: Cảm biến, Mạng và Ứng dụng. Tầng Cảm biến:\n",
      "• Gồm các vi điều khiển, cảm biến, bộ truyền động và các giao thức qua\n",
      "dây (UART, JTAG, I2C, v.v.).\n",
      "------------------------------------------------------------\n",
      "\n",
      "📄 Documellmnt 2\n",
      "------------------------------------------------------------\n",
      "📄 Page       : 4\n",
      "📝 Content    :\n",
      "Chương 1\n",
      "Tổng quan về IoT\n",
      "1.1 IoT là gì? Internet of Things (IoT) là một hệ thống gồm các thiết bị được gọi là \"vật\". Những thiết bị này có các bộ phận điện tử cho phép chúng có khả năng\n",
      "tự động thu thập dữ liệu thông qua cảm biến, xử lý và trao đổi dữ liệu\n",
      "qua mạng. Những thiết bị này có thể là các thiết bị gia dụng đơn giản như\n",
      "router hay các thiết bị phức tạp như máy móc công nghiệp quy mô lớn\n",
      "Đặc trưng nổi bật của IoT là tính liên thông năng lượng thấp: mỗi\n",
      "thiết bị IoT sẽ luôn luôn được bật và đều được kết nối và tương tác với các\n",
      "thiết bị IoT khác trong cùng hệ thống. Những giao thức kết nối được sử\n",
      "dụng trong hệ thống IoT cần được tối ưu cho hệ thống năng lượng thấp và\n",
      "ít tài nguyên tính toán. Một đặc trưng khác của những thiết bị IoT này là\n",
      "các thiết bị này có khả năng xử lý và thu thập thông tin trong thời gian\n",
      "thực. 1.2 Các thành phần trong hệ thống IoT\n",
      "Một hệ thống IoT sẽ bao gồm nhiều thành phần khác nhau, mỗi thành phần\n",
      "đều có những tác động riêng đến bảo mật của hệ thống. Kiến trúc hệ thống\n",
      "IoT có thể được chia thành 3 tầng: Cảm biến, Mạng và Ứng dụng. Tầng Cảm biến:\n",
      "• Gồm các vi điều khiển, cảm biến, bộ truyền động và các giao thức qua\n",
      "dây (UART, JTAG, I2C, v.v.).\n",
      "------------------------------------------------------------\n",
      "\n",
      "📄 Documellmnt 3\n",
      "------------------------------------------------------------\n",
      "📄 Page       : 1\n",
      "📝 Content    :\n",
      "IoT Security\n",
      "Người thực hiện:Nguyễn Bình Nam\n",
      "Người hướng dẫn:Trần Quang Tài\n",
      "Ngày 11 tháng 6 năm 2025\n",
      "------------------------------------------------------------\n",
      "\n",
      "📄 Documellmnt 4\n",
      "------------------------------------------------------------\n",
      "📄 Page       : 12\n",
      "📝 Content    :\n",
      "Chương 4\n",
      "Minh họa\n",
      "4.1 Thiết bị được sử dụng\n",
      "Thiết bị được sử dụng cho minh họa các lỗ hổng trên hệ thống IoT là thiết\n",
      "bị router DIR-820L của D-Link. Thiết bị này là một thiết bị router được sản\n",
      "xuất từ năm 2013. Dự án này sẽ minh họa 5 lỗ hổng khác nhau còn tồn tại\n",
      "trên firmware mới nhất của thiết bị này. 12\n",
      "------------------------------------------------------------\n"
     ]
    }
   ],
   "source": [
    "result = retriever.invoke(\"IoT là gì ?\")\n",
    "print(\"Num of relevant documents: \", len(result))\n",
    "\n",
    "#? Không Embedd được hình (ý nghĩa của hình)\n",
    "#? May retrieve duplicate documents\n",
    "for i, doc in enumerate(result, 1):\n",
    "    print(f\"\\n📄 Documellmnt {i}\")\n",
    "    print(\"-\" * 60)\n",
    "    print(f\"📄 Page       : {doc.metadata.get('page_label', doc.metadata.get('page'))}\")\n",
    "    print(f\"📝 Content    :\\n{doc.page_content.strip()}\")\n",
    "    print(\"-\" * 60)"
   ]
  },
  {
   "cell_type": "code",
   "execution_count": 37,
   "id": "cd64125a",
   "metadata": {},
   "outputs": [],
   "source": [
    "with open('token.txt', 'r') as f:\n",
    "    hg_token = f.read() #? read huggingface token from token.txt file"
   ]
  },
  {
   "cell_type": "code",
   "execution_count": 38,
   "id": "56800112",
   "metadata": {},
   "outputs": [],
   "source": [
    "# set up config\n",
    "nf4_config = BitsAndBytesConfig(\n",
    "    load_in_4bit=True,\n",
    "    bnb_4bit_quant_type=\"nf4\",\n",
    "    bnb_4bit_use_double_quant=True,\n",
    "    bnb_4bit_compute_dtype=torch.bfloat16\n",
    ")"
   ]
  },
  {
   "cell_type": "code",
   "execution_count": 48,
   "id": "1f89b6ce",
   "metadata": {},
   "outputs": [
    {
     "data": {
      "application/vnd.jupyter.widget-view+json": {
       "model_id": "e0a6e6ad3dac46f7af48320be842161f",
       "version_major": 2,
       "version_minor": 0
      },
      "text/plain": [
       "Loading checkpoint shards:   0%|          | 0/2 [00:00<?, ?it/s]"
      ]
     },
     "metadata": {},
     "output_type": "display_data"
    }
   ],
   "source": [
    "#? Initialize Model and Tokenizer\n",
    "#? PhoGPT-5.5B\n",
    "#? Phi-2 (2.7B)\n",
    "#? lmsys/vicuna-7b-v1.5\n",
    "MODEL_NAME= \"google/gemma-2b-it\"\n",
    "\n",
    "model = AutoModelForCausalLM.from_pretrained(\n",
    "    MODEL_NAME,\n",
    "    quantization_config=nf4_config, # add config\n",
    "    low_cpu_mem_usage=True,\n",
    "    token=hg_token\n",
    ").to(\"cuda\")"
   ]
  },
  {
   "cell_type": "code",
   "execution_count": 49,
   "id": "0b54f090",
   "metadata": {},
   "outputs": [
    {
     "name": "stdout",
     "output_type": "stream",
     "text": [
      "Model is running on CUDA.\n"
     ]
    }
   ],
   "source": [
    "# Check if the model is on CUDA\n",
    "if next(model.parameters()).is_cuda:\n",
    "    print(\"Model is running on CUDA.\")\n",
    "else:\n",
    "    print(\"Model is not running on CUDA.\")"
   ]
  },
  {
   "cell_type": "code",
   "execution_count": 50,
   "id": "9ec9d7c1",
   "metadata": {},
   "outputs": [],
   "source": [
    "tokenizer = AutoTokenizer.from_pretrained(\n",
    "    MODEL_NAME,\n",
    "    use_fast=True,\n",
    "    padding_side='left',   # 'left' or 'right' depending on model style (e.g., causal LM often prefers left)\n",
    "    truncation_side='left'\n",
    ")"
   ]
  },
  {
   "cell_type": "code",
   "execution_count": 51,
   "id": "90d2d52f",
   "metadata": {},
   "outputs": [
    {
     "name": "stderr",
     "output_type": "stream",
     "text": [
      "Device set to use cuda:0\n"
     ]
    }
   ],
   "source": [
    "tokenizer.pad_token = tokenizer.eos_token\n",
    "\n",
    "# #? Integrated tokenizer and model into a Pipeline (for convinient)\n",
    "model_pipeline = pipeline(\n",
    "    'text-generation',\n",
    "    model=model,\n",
    "    tokenizer=tokenizer,\n",
    "    max_new_tokens=1024, # output token\n",
    "    device_map=\"auto\" # auto allocate GPU if available\n",
    ")\n",
    "\n",
    "llm = HuggingFacePipeline(\n",
    "    pipeline=model_pipeline,\n",
    ")"
   ]
  },
  {
   "cell_type": "markdown",
   "id": "0974a120",
   "metadata": {},
   "source": [
    "## Learn how to prompt so the LLM can generate better multiple-choice question\n",
    "\n",
    "Ví dụ về một câu hỏi trắc nghiệm tốt:\n",
    "\n",
    "Câu hỏi: Tấn công side-channel là gì?\n",
    "\n",
    "Phương án:\n",
    "\n",
    "A. Là tấn công từ xa vào giao diện web.\n",
    "\n",
    "B. Là kiểu tấn công dựa trên hành vi tiêu thụ năng lượng của thiết bị.\n",
    "\n",
    "C. Là tấn công trực diện vào hạ tầng mạng\n",
    "\n",
    "D. Là tấn công dựa vào bức xạ điện từ để lấy khóa mã hóa.\n",
    "\n",
    "Đáp án đúng: D"
   ]
  },
  {
   "cell_type": "code",
   "execution_count": 52,
   "id": "9c006a65",
   "metadata": {},
   "outputs": [],
   "source": [
    "def format_docs(docs):\n",
    "    return \"\\n\\n\".join(doc.page_content for doc in docs)\n",
    "\n",
    "parser = StrOutputParser()\n"
   ]
  },
  {
   "cell_type": "code",
   "execution_count": 53,
   "id": "6adc7736",
   "metadata": {},
   "outputs": [],
   "source": [
    "import os\n",
    "\n",
    "def save_result(result, file_path):\n",
    "    with open(file_path, 'w') as f:\n",
    "            f.write(result)"
   ]
  },
  {
   "cell_type": "code",
   "execution_count": 54,
   "id": "95e1c36b",
   "metadata": {},
   "outputs": [],
   "source": [
    "from langchain.prompts import PromptTemplate"
   ]
  },
  {
   "cell_type": "code",
   "execution_count": 55,
   "id": "f320669e",
   "metadata": {},
   "outputs": [],
   "source": [
    "prompt = PromptTemplate.from_template(\"\"\"\n",
    "        Trả lời ngắn gọn, rõ ràng bằng tiếng việt và chỉ dựa trên thông tin có sẵn bên dưới.\n",
    "        Nếu không tìm thấy thông tin, hãy nói rõ là không có dữ liệu liên quan.\n",
    "\n",
    "        Nội dung tài liệu:\n",
    "        {context}\n",
    "\n",
    "        Câu hỏi:\n",
    "        {question}\n",
    "\n",
    "        Trả lời:\n",
    "    \"\"\") #? dùng {{ }} để langchain không nhận string bên trong {} là Biến\n",
    "\n",
    "rag_chain = (\n",
    "{\"context\": retriever | format_docs, \"question\": RunnablePassthrough()}\n",
    "    | prompt\n",
    "    | llm\n",
    "    | parser\n",
    ")\n",
    "\n",
    "query = 'Liệt kê các thành phần trong hệ thống IoT ?'\n",
    "result = rag_chain.invoke(query)"
   ]
  },
  {
   "cell_type": "code",
   "execution_count": 56,
   "id": "951da108",
   "metadata": {},
   "outputs": [
    {
     "name": "stdout",
     "output_type": "stream",
     "text": [
      "\n",
      "        Trả lời ngắn gọn, rõ ràng bằng tiếng việt và chỉ dựa trên thông tin có sẵn bên dưới.\n",
      "        Nếu không tìm thấy thông tin, hãy nói rõ là không có dữ liệu liên quan.\n",
      "\n",
      "        Nội dung tài liệu:\n",
      "        Chương 1\n",
      "Tổng quan về IoT\n",
      "1.1 IoT là gì? Internet of Things (IoT) là một hệ thống gồm các thiết bị được gọi là \"vật\". Những thiết bị này có các bộ phận điện tử cho phép chúng có khả năng\n",
      "tự động thu thập dữ liệu thông qua cảm biến, xử lý và trao đổi dữ liệu\n",
      "qua mạng. Những thiết bị này có thể là các thiết bị gia dụng đơn giản như\n",
      "router hay các thiết bị phức tạp như máy móc công nghiệp quy mô lớn\n",
      "Đặc trưng nổi bật của IoT là tính liên thông năng lượng thấp: mỗi\n",
      "thiết bị IoT sẽ luôn luôn được bật và đều được kết nối và tương tác với các\n",
      "thiết bị IoT khác trong cùng hệ thống. Những giao thức kết nối được sử\n",
      "dụng trong hệ thống IoT cần được tối ưu cho hệ thống năng lượng thấp và\n",
      "ít tài nguyên tính toán. Một đặc trưng khác của những thiết bị IoT này là\n",
      "các thiết bị này có khả năng xử lý và thu thập thông tin trong thời gian\n",
      "thực. 1.2 Các thành phần trong hệ thống IoT\n",
      "Một hệ thống IoT sẽ bao gồm nhiều thành phần khác nhau, mỗi thành phần\n",
      "đều có những tác động riêng đến bảo mật của hệ thống. Kiến trúc hệ thống\n",
      "IoT có thể được chia thành 3 tầng: Cảm biến, Mạng và Ứng dụng. Tầng Cảm biến:\n",
      "• Gồm các vi điều khiển, cảm biến, bộ truyền động và các giao thức qua\n",
      "dây (UART, JTAG, I2C, v.v.).\n",
      "\n",
      "Chương 1\n",
      "Tổng quan về IoT\n",
      "1.1 IoT là gì? Internet of Things (IoT) là một hệ thống gồm các thiết bị được gọi là \"vật\". Những thiết bị này có các bộ phận điện tử cho phép chúng có khả năng\n",
      "tự động thu thập dữ liệu thông qua cảm biến, xử lý và trao đổi dữ liệu\n",
      "qua mạng. Những thiết bị này có thể là các thiết bị gia dụng đơn giản như\n",
      "router hay các thiết bị phức tạp như máy móc công nghiệp quy mô lớn\n",
      "Đặc trưng nổi bật của IoT là tính liên thông năng lượng thấp: mỗi\n",
      "thiết bị IoT sẽ luôn luôn được bật và đều được kết nối và tương tác với các\n",
      "thiết bị IoT khác trong cùng hệ thống. Những giao thức kết nối được sử\n",
      "dụng trong hệ thống IoT cần được tối ưu cho hệ thống năng lượng thấp và\n",
      "ít tài nguyên tính toán. Một đặc trưng khác của những thiết bị IoT này là\n",
      "các thiết bị này có khả năng xử lý và thu thập thông tin trong thời gian\n",
      "thực. 1.2 Các thành phần trong hệ thống IoT\n",
      "Một hệ thống IoT sẽ bao gồm nhiều thành phần khác nhau, mỗi thành phần\n",
      "đều có những tác động riêng đến bảo mật của hệ thống. Kiến trúc hệ thống\n",
      "IoT có thể được chia thành 3 tầng: Cảm biến, Mạng và Ứng dụng. Tầng Cảm biến:\n",
      "• Gồm các vi điều khiển, cảm biến, bộ truyền động và các giao thức qua\n",
      "dây (UART, JTAG, I2C, v.v.).\n",
      "\n",
      "Chương 3\n",
      "Các phương pháp khai thác IoT\n",
      "Sau đây là một số phương pháp khai thác hệ thống IoT. Những phương pháp\n",
      "này đã được liệt kê trong danh sách OWASP IoT Top 10. 3.1 Mật khẩu yếu, dễ đoán\n",
      "Nhiều thiết bị IoT sử dụng mật khẩu yếu, dễ bị brute-force, có thể bị tìm\n",
      "trên mạng. Hơn nữa, một số thiết bị hardcode mật khẩu một bộ phận nào\n",
      "của thiết bị như firmware, dẫn đến khả năng người tấn công có khả năng\n",
      "trích xuất mật khẩu từ bộ phận đó của thiết bị. Hậu quả là các người tấn\n",
      "công có thể truy cập vào thiết bị đó mà không được phép.\n",
      "\n",
      "Chương 3\n",
      "Các phương pháp khai thác IoT\n",
      "Sau đây là một số phương pháp khai thác hệ thống IoT. Những phương pháp\n",
      "này đã được liệt kê trong danh sách OWASP IoT Top 10. 3.1 Mật khẩu yếu, dễ đoán\n",
      "Nhiều thiết bị IoT sử dụng mật khẩu yếu, dễ bị brute-force, có thể bị tìm\n",
      "trên mạng. Hơn nữa, một số thiết bị hardcode mật khẩu một bộ phận nào\n",
      "của thiết bị như firmware, dẫn đến khả năng người tấn công có khả năng\n",
      "trích xuất mật khẩu từ bộ phận đó của thiết bị. Hậu quả là các người tấn\n",
      "công có thể truy cập vào thiết bị đó mà không được phép.\n",
      "\n",
      "        Câu hỏi:\n",
      "        Liệt kê các thành phần trong hệ thống IoT ?\n",
      "\n",
      "        Trả lời:\n",
      "    * Cảm biến\n",
      "    * Mạng\n",
      "    * Ứng dụng\n"
     ]
    }
   ],
   "source": [
    "print(result)"
   ]
  },
  {
   "cell_type": "markdown",
   "id": "2853a3fd",
   "metadata": {},
   "source": [
    "### Customize RAG Output to Json"
   ]
  },
  {
   "cell_type": "code",
   "execution_count": null,
   "id": "9409b18e",
   "metadata": {},
   "outputs": [],
   "source": [
    "multi_choice_prompt_improved = \"\"\"\n",
    "Bạn là một trợ lý chuyên xử lý văn bản và chỉ trả lời bằng định dạng JSON.\n",
    "Dựa vào Context được cung cấp, hãy thực hiện các nhiệm vụ sau và trả về kết quả trong một đối tượng JSON duy nhất.\n",
    "\n",
    "NHIỆM VỤ:\n",
    "1. Rút ra tối đa 3 ý chính từ Context có liên quan trực tiếp đến Câu hỏi. Mỗi ý phải có nguồn (số trang) đi kèm.\n",
    "2. Trả lời Câu hỏi một cách ngắn gọn và chính xác.\n",
    "\n",
    "QUY TẮC BẮT BUỘC:\n",
    "- Câu trả lời của bạn PHẢI là một đối tượng JSON hợp lệ. KHÔNG thêm bất kỳ văn bản, giải thích, hay ghi chú nào trước hoặc sau khối JSON.\n",
    "- Nếu không tìm thấy ý chính nào liên quan, hãy trả về một danh sách rỗng cho trường `main_ideas`, ví dụ: `\"main_ideas\": []`.\n",
    "- Nếu Context không chứa thông tin để trả lời Câu hỏi, hãy điền chuỗi \"Không có dữ liệu liên quan\" vào trường `answer`.\n",
    "\n",
    "CẤU TRÚC JSON BẮT BUỘC:\n",
    "{format_instructions}\n",
    "\n",
    "DỮ LIỆU ĐẦU VÀO:\n",
    "Context:\n",
    "{context}\n",
    "\n",
    "Câu hỏi:\n",
    "{question}\n",
    "\n",
    "JSON Output:\n",
    "\"\"\"\n"
   ]
  },
  {
   "cell_type": "code",
   "execution_count": null,
   "id": "a08122d5",
   "metadata": {},
   "outputs": [
    {
     "name": "stdout",
     "output_type": "stream",
     "text": [
      "{'sentiment': 'Negative', 'summary': 'Summarize this: The product quality is really nice and exceeded expectations. \\n\\nThe customer service was excellent and attentive.\\n\\nThe packaging was well-designed and protected the product.\\n\\nOverall, the customer had a positive experience with the product and the company.'}\n"
     ]
    }
   ],
   "source": [
    "from langchain.prompts import PromptTemplate\n",
    "from langchain.llms import OpenAI\n",
    "from langchain.schema.runnable import Runnable, RunnableSequence, RunnableMap,RunnableLambda\n",
    "\n",
    "# Define individual Runnables\n",
    "sentiment_analysis_runnable = RunnableLambda(lambda text: \"Positive\" if \"good\" in text.lower() else \"Negative\") # check if the word \"good\" exist inside text string\n",
    "\n",
    "summarization_runnable = PromptTemplate(input_variables=[\"text\"], template=\"Summarize this: {text}\") | llm # | represent RunnableSequence\n",
    "\n",
    "\n",
    "# Combine Runnables into a pipeline\n",
    "pipeline = RunnableMap({\n",
    "    \"sentiment\": sentiment_analysis_runnable,\n",
    "    \"summary\": summarization_runnable\n",
    "})\n",
    "\n",
    "# Invoke the pipeline\n",
    "feedback = \"The product quality is really nice and exceeded expectations.\"\n",
    "result = pipeline.invoke(feedback)\n",
    "\n",
    "print(result)\n",
    "# Output:\n",
    "# {\n",
    "#   \"sentiment\": \"Positive\",\n",
    "#   \"summary\": \"The product quality is excellent.\"\n",
    "# }"
   ]
  },
  {
   "cell_type": "code",
   "execution_count": null,
   "id": "ee898dbb",
   "metadata": {},
   "outputs": [],
   "source": [
    "from langchain.output_parsers import PydanticOutputParser\n",
    "from pydantic import BaseModel, Field\n",
    "from typing import List\n",
    "\n",
    "class MainIdea(BaseModel):\n",
    "    point: str\n",
    "    source: str\n",
    "\n",
    "# return output as pre-define object format\n",
    "class QAResponse(BaseModel):\n",
    "    main_ideas: List[MainIdea]\n",
    "    answer: str\n",
    "\n",
    "# converting raw input into QAResponse Object data structure\n",
    "parser = PydanticOutputParser(pydantic_object=QAResponse)\n",
    "prompt_template = PromptTemplate(\n",
    "    #? use to instruct the llm using prompt\n",
    "    template=multi_choice_prompt_improved,\n",
    "    #? specifies information (input_variable) the llm would received\n",
    "    input_variables=[\"context\", \"question\"],\n",
    "    #? inject the formatting instructions generate by the parser\n",
    "    partial_variables={\"format_instructions\": parser.get_format_instructions()}\n",
    ")\n",
    "\n",
    "#? format type: LangChain Expression Language (LCEL)\n",
    "#?\n",
    "rag_chain = (\n",
    "    {\"context\": retriever | format_docs, \"question\": RunnablePassthrough()}\n",
    "    | prompt_template\n",
    "    | llm\n",
    "    | parser\n",
    ")\n",
    "\n",
    "# query = 'Liệt kê các thành phần trong hệ thống IoT ?'\n",
    "query = 'IoT là gì ?'\n",
    "try:\n",
    "    result = rag_chain.invoke(query)\n",
    "    print(result)\n",
    "except Exception as e:\n",
    "    print(f\"There a Error: {e}\")"
   ]
  },
  {
   "cell_type": "code",
   "execution_count": null,
   "id": "34976175",
   "metadata": {},
   "outputs": [],
   "source": [
    "multi_choice_prompt = \"\"\"\n",
    "        Dựa vào nội dung sau, hãy:\n",
    "        1. Tóm tắt tối đa 3 ý chính, kèm theo số trang nếu có.\n",
    "        2. Trả lời câu hỏi bằng tiếng Việt ngắn gọn và chính xác.\n",
    "        3. Nếu không có thông tin liên quan, hãy để \"Answer\" là \"Không có dữ liệu liên quan\".\n",
    "\n",
    "        Đảm bảo trả kết quả **ở dạng JSON** với cấu trúc sau:\n",
    "        {{\"main_ideas\": [\n",
    "            {{\"point\": \"Ý chính 1\", \"source\": \"Trang ...\"}},\n",
    "            {{\"point\": \"Ý chính 2\", \"source\": \"Trang ...\"}},\n",
    "            {{\"point\": \"Ý chính 3\", \"source\": \"Trang ...\"}}\n",
    "        ],\n",
    "        \"answer\": \"Câu trả lời ngắn gọn\"\n",
    "        }}\n",
    "\n",
    "        Vui lòng chỉ trả lời bằng format JSON, không giải thích thêm.\n",
    "\n",
    "        Context:\n",
    "        {context}\n",
    "\n",
    "        Question:\n",
    "        {question}\n",
    "\n",
    "        Answer:\n",
    "\n",
    "\"\"\" #? dùng {{ }} để langchain không nhận string bên trong {} là Biến"
   ]
  },
  {
   "cell_type": "code",
   "execution_count": null,
   "id": "bdc039d5",
   "metadata": {},
   "outputs": [],
   "source": [
    "def run_custom_rag(user_question):\n",
    "    prompt = PromptTemplate.from_template(multi_choice_prompt)\n",
    "    rag_chain = (\n",
    "    {\"context\": retriever | format_docs, \"question\": RunnablePassthrough()}\n",
    "        | prompt\n",
    "        | llm\n",
    "        | parser\n",
    "    )\n",
    "\n",
    "\n",
    "    query = user_question\n",
    "    result = rag_chain.invoke(query)\n",
    "\n",
    "    file_path = 'output.txt'\n",
    "    save_result(result, file_path)\n",
    "\n",
    "\n",
    "    return result"
   ]
  },
  {
   "cell_type": "code",
   "execution_count": null,
   "id": "c48f7aa0",
   "metadata": {},
   "outputs": [
    {
     "ename": "OutputParserException",
     "evalue": "Invalid json output: Dựa vào nội dung sau, hãy:\n        1. Tóm tắt tối đa 3 ý chính, kèm theo số trang nếu có.\n        2. Trả lời câu hỏi bằng tiếng Việt ngắn gọn và chính xác.\n        3. Nếu không có thông tin liên quan, hãy để \"Answer\" là \"Không có dữ liệu liên quan\".\n\n        Đảm bảo trả kết quả **ở dạng JSON** với cấu trúc sau:\n        {\"main_ideas\": [\n            {\"point\": \"Ý chính 1\", \"source\": \"Trang ...\"},\n            {\"point\": \"Ý chính 2\", \"source\": \"Trang ...\"},\n            {\"point\": \"Ý chính 3\", \"source\": \"Trang ...\"}\n        ],\n        \"answer\": \"Câu trả lời ngắn gọn\"\n        }\n\n        Vui lòng chỉ trả lời bằng format JSON, không giải thích thêm.\n\n        Context:\n        Chương 1\nTổng quan về IoT\n1.1 IoT là gì? Internet of Things (IoT) là một hệ thống gồm các thiết bị được gọi là \"vật\". Những thiết bị này có các bộ phận điện tử cho phép chúng có khả năng\ntự động thu thập dữ liệu thông qua cảm biến, xử lý và trao đổi dữ liệu\nqua mạng. Những thiết bị này có thể là các thiết bị gia dụng đơn giản như\nrouter hay các thiết bị phức tạp như máy móc công nghiệp quy mô lớn\nĐặc trưng nổi bật của IoT là tính liên thông năng lượng thấp: mỗi\nthiết bị IoT sẽ luôn luôn được bật và đều được kết nối và tương tác với các\nthiết bị IoT khác trong cùng hệ thống. Những giao thức kết nối được sử\ndụng trong hệ thống IoT cần được tối ưu cho hệ thống năng lượng thấp và\nít tài nguyên tính toán. Một đặc trưng khác của những thiết bị IoT này là\ncác thiết bị này có khả năng xử lý và thu thập thông tin trong thời gian\nthực. 1.2 Các thành phần trong hệ thống IoT\nMột hệ thống IoT sẽ bao gồm nhiều thành phần khác nhau, mỗi thành phần\nđều có những tác động riêng đến bảo mật của hệ thống. Kiến trúc hệ thống\nIoT có thể được chia thành 3 tầng: Cảm biến, Mạng và Ứng dụng. Tầng Cảm biến:\n• Gồm các vi điều khiển, cảm biến, bộ truyền động và các giao thức qua\ndây (UART, JTAG, I2C, v.v.).\n\nIoT Security\nNgười thực hiện:Nguyễn Bình Nam\nNgười hướng dẫn:Trần Quang Tài\nNgày 11 tháng 6 năm 2025\n\nChương 4\nMinh họa\n4.1 Thiết bị được sử dụng\nThiết bị được sử dụng cho minh họa các lỗ hổng trên hệ thống IoT là thiết\nbị router DIR-820L của D-Link. Thiết bị này là một thiết bị router được sản\nxuất từ năm 2013. Dự án này sẽ minh họa 5 lỗ hổng khác nhau còn tồn tại\ntrên firmware mới nhất của thiết bị này. 12\n\nChương 5\nKết luận\nBảo mật cho IoT là một thách thức do hàng tỷ thiết bị kết nối, từ bộ điều\nnhiệt gia đình đến cảm biến công nghiệp, ngày càng gia tăng. Những thiết bị\nnày thường gặp phải các vấn đề như xác thực yếu, kênh truyền không được\nmã hóa và cơ chế cập nhật firmware không an toàn, tất cả đều mở đường\ncho các cuộc tấn công như MITM, phát lại gói tin, can thiệp vào firmware\nvà dò mật khẩu. Dự án này đã thảo luận về các mối đe dọa IoT, xác định\ncác phương thức khai thác thực tiễn. Các lỗ hổng trên router DIR-820L\nđã minh họa rủi ro lớn trong thiết bị IoT và các điểm yếu cần được khắc phục. Để bảo mật được hệ sinh thái IoT đòi hỏi một cách tiếp cận tổng\nthể trên nhiều thành phần của hệ thống. Dự án với thiết bị D-Link\nDIR-820L cho thấy các cách các thiết bị IoT có thể bị khai thác và cách bảo\nvệ các thiết bị này khỏi những cuộc tấn công này, mở hướng cho các triển\nkhai IoT an toàn và bền vững hơn. 33\n\n        Question:\n        IoT là gi?\n\n        Answer:\n\nIoT (Internet of Things) là một hệ thống gồm các thiết bị được gọi là \"vật\". Những thiết bị này có các bộ phận điện tử cho phép chúng có khả năng tự động thu thập dữ liệu thông qua cảm biến, xử lý và trao đổi dữ liệu qua mạng.\nFor troubleshooting, visit: https://python.langchain.com/docs/troubleshooting/errors/OUTPUT_PARSING_FAILURE ",
     "output_type": "error",
     "traceback": [
      "\u001b[31m---------------------------------------------------------------------------\u001b[39m",
      "\u001b[31mJSONDecodeError\u001b[39m                           Traceback (most recent call last)",
      "\u001b[36mFile \u001b[39m\u001b[32md:\\CODE\\IDE\\Anaconda\\envs\\rag-multi-choice\\Lib\\site-packages\\langchain_core\\output_parsers\\json.py:82\u001b[39m, in \u001b[36mJsonOutputParser.parse_result\u001b[39m\u001b[34m(self, result, partial)\u001b[39m\n\u001b[32m     81\u001b[39m \u001b[38;5;28;01mtry\u001b[39;00m:\n\u001b[32m---> \u001b[39m\u001b[32m82\u001b[39m     \u001b[38;5;28;01mreturn\u001b[39;00m \u001b[43mparse_json_markdown\u001b[49m\u001b[43m(\u001b[49m\u001b[43mtext\u001b[49m\u001b[43m)\u001b[49m\n\u001b[32m     83\u001b[39m \u001b[38;5;28;01mexcept\u001b[39;00m JSONDecodeError \u001b[38;5;28;01mas\u001b[39;00m e:\n",
      "\u001b[36mFile \u001b[39m\u001b[32md:\\CODE\\IDE\\Anaconda\\envs\\rag-multi-choice\\Lib\\site-packages\\langchain_core\\utils\\json.py:150\u001b[39m, in \u001b[36mparse_json_markdown\u001b[39m\u001b[34m(json_string, parser)\u001b[39m\n\u001b[32m    149\u001b[39m     json_str = json_string \u001b[38;5;28;01mif\u001b[39;00m match \u001b[38;5;129;01mis\u001b[39;00m \u001b[38;5;28;01mNone\u001b[39;00m \u001b[38;5;28;01melse\u001b[39;00m match.group(\u001b[32m2\u001b[39m)\n\u001b[32m--> \u001b[39m\u001b[32m150\u001b[39m \u001b[38;5;28;01mreturn\u001b[39;00m \u001b[43m_parse_json\u001b[49m\u001b[43m(\u001b[49m\u001b[43mjson_str\u001b[49m\u001b[43m,\u001b[49m\u001b[43m \u001b[49m\u001b[43mparser\u001b[49m\u001b[43m=\u001b[49m\u001b[43mparser\u001b[49m\u001b[43m)\u001b[49m\n",
      "\u001b[36mFile \u001b[39m\u001b[32md:\\CODE\\IDE\\Anaconda\\envs\\rag-multi-choice\\Lib\\site-packages\\langchain_core\\utils\\json.py:166\u001b[39m, in \u001b[36m_parse_json\u001b[39m\u001b[34m(json_str, parser)\u001b[39m\n\u001b[32m    165\u001b[39m \u001b[38;5;66;03m# Parse the JSON string into a Python dictionary\u001b[39;00m\n\u001b[32m--> \u001b[39m\u001b[32m166\u001b[39m \u001b[38;5;28;01mreturn\u001b[39;00m \u001b[43mparser\u001b[49m\u001b[43m(\u001b[49m\u001b[43mjson_str\u001b[49m\u001b[43m)\u001b[49m\n",
      "\u001b[36mFile \u001b[39m\u001b[32md:\\CODE\\IDE\\Anaconda\\envs\\rag-multi-choice\\Lib\\site-packages\\langchain_core\\utils\\json.py:123\u001b[39m, in \u001b[36mparse_partial_json\u001b[39m\u001b[34m(s, strict)\u001b[39m\n\u001b[32m    120\u001b[39m \u001b[38;5;66;03m# If we got here, we ran out of characters to remove\u001b[39;00m\n\u001b[32m    121\u001b[39m \u001b[38;5;66;03m# and still couldn't parse the string as JSON, so return the parse error\u001b[39;00m\n\u001b[32m    122\u001b[39m \u001b[38;5;66;03m# for the original string.\u001b[39;00m\n\u001b[32m--> \u001b[39m\u001b[32m123\u001b[39m \u001b[38;5;28;01mreturn\u001b[39;00m \u001b[43mjson\u001b[49m\u001b[43m.\u001b[49m\u001b[43mloads\u001b[49m\u001b[43m(\u001b[49m\u001b[43ms\u001b[49m\u001b[43m,\u001b[49m\u001b[43m \u001b[49m\u001b[43mstrict\u001b[49m\u001b[43m=\u001b[49m\u001b[43mstrict\u001b[49m\u001b[43m)\u001b[49m\n",
      "\u001b[36mFile \u001b[39m\u001b[32md:\\CODE\\IDE\\Anaconda\\envs\\rag-multi-choice\\Lib\\json\\__init__.py:359\u001b[39m, in \u001b[36mloads\u001b[39m\u001b[34m(s, cls, object_hook, parse_float, parse_int, parse_constant, object_pairs_hook, **kw)\u001b[39m\n\u001b[32m    358\u001b[39m     kw[\u001b[33m'\u001b[39m\u001b[33mparse_constant\u001b[39m\u001b[33m'\u001b[39m] = parse_constant\n\u001b[32m--> \u001b[39m\u001b[32m359\u001b[39m \u001b[38;5;28;01mreturn\u001b[39;00m \u001b[38;5;28;43mcls\u001b[39;49m\u001b[43m(\u001b[49m\u001b[43m*\u001b[49m\u001b[43m*\u001b[49m\u001b[43mkw\u001b[49m\u001b[43m)\u001b[49m\u001b[43m.\u001b[49m\u001b[43mdecode\u001b[49m\u001b[43m(\u001b[49m\u001b[43ms\u001b[49m\u001b[43m)\u001b[49m\n",
      "\u001b[36mFile \u001b[39m\u001b[32md:\\CODE\\IDE\\Anaconda\\envs\\rag-multi-choice\\Lib\\json\\decoder.py:337\u001b[39m, in \u001b[36mJSONDecoder.decode\u001b[39m\u001b[34m(self, s, _w)\u001b[39m\n\u001b[32m    333\u001b[39m \u001b[38;5;250m\u001b[39m\u001b[33;03m\"\"\"Return the Python representation of ``s`` (a ``str`` instance\u001b[39;00m\n\u001b[32m    334\u001b[39m \u001b[33;03mcontaining a JSON document).\u001b[39;00m\n\u001b[32m    335\u001b[39m \n\u001b[32m    336\u001b[39m \u001b[33;03m\"\"\"\u001b[39;00m\n\u001b[32m--> \u001b[39m\u001b[32m337\u001b[39m obj, end = \u001b[38;5;28;43mself\u001b[39;49m\u001b[43m.\u001b[49m\u001b[43mraw_decode\u001b[49m\u001b[43m(\u001b[49m\u001b[43ms\u001b[49m\u001b[43m,\u001b[49m\u001b[43m \u001b[49m\u001b[43midx\u001b[49m\u001b[43m=\u001b[49m\u001b[43m_w\u001b[49m\u001b[43m(\u001b[49m\u001b[43ms\u001b[49m\u001b[43m,\u001b[49m\u001b[43m \u001b[49m\u001b[32;43m0\u001b[39;49m\u001b[43m)\u001b[49m\u001b[43m.\u001b[49m\u001b[43mend\u001b[49m\u001b[43m(\u001b[49m\u001b[43m)\u001b[49m\u001b[43m)\u001b[49m\n\u001b[32m    338\u001b[39m end = _w(s, end).end()\n",
      "\u001b[36mFile \u001b[39m\u001b[32md:\\CODE\\IDE\\Anaconda\\envs\\rag-multi-choice\\Lib\\json\\decoder.py:355\u001b[39m, in \u001b[36mJSONDecoder.raw_decode\u001b[39m\u001b[34m(self, s, idx)\u001b[39m\n\u001b[32m    354\u001b[39m \u001b[38;5;28;01mexcept\u001b[39;00m \u001b[38;5;167;01mStopIteration\u001b[39;00m \u001b[38;5;28;01mas\u001b[39;00m err:\n\u001b[32m--> \u001b[39m\u001b[32m355\u001b[39m     \u001b[38;5;28;01mraise\u001b[39;00m JSONDecodeError(\u001b[33m\"\u001b[39m\u001b[33mExpecting value\u001b[39m\u001b[33m\"\u001b[39m, s, err.value) \u001b[38;5;28;01mfrom\u001b[39;00m\u001b[38;5;250m \u001b[39m\u001b[38;5;28;01mNone\u001b[39;00m\n\u001b[32m    356\u001b[39m \u001b[38;5;28;01mreturn\u001b[39;00m obj, end\n",
      "\u001b[31mJSONDecodeError\u001b[39m: Expecting value: line 1 column 1 (char 0)",
      "\nThe above exception was the direct cause of the following exception:\n",
      "\u001b[31mOutputParserException\u001b[39m                     Traceback (most recent call last)",
      "\u001b[36mCell\u001b[39m\u001b[36m \u001b[39m\u001b[32mIn[27]\u001b[39m\u001b[32m, line 2\u001b[39m\n\u001b[32m      1\u001b[39m question = \u001b[33m\"\u001b[39m\u001b[33mIoT là gi?\u001b[39m\u001b[33m\"\u001b[39m\n\u001b[32m----> \u001b[39m\u001b[32m2\u001b[39m result = \u001b[43mrun_custom_rag\u001b[49m\u001b[43m(\u001b[49m\u001b[43mquestion\u001b[49m\u001b[43m)\u001b[49m\n",
      "\u001b[36mCell\u001b[39m\u001b[36m \u001b[39m\u001b[32mIn[26]\u001b[39m\u001b[32m, line 12\u001b[39m, in \u001b[36mrun_custom_rag\u001b[39m\u001b[34m(user_question)\u001b[39m\n\u001b[32m      3\u001b[39m rag_chain = (\n\u001b[32m      4\u001b[39m {\u001b[33m\"\u001b[39m\u001b[33mcontext\u001b[39m\u001b[33m\"\u001b[39m: retriever | format_docs, \u001b[33m\"\u001b[39m\u001b[33mquestion\u001b[39m\u001b[33m\"\u001b[39m: RunnablePassthrough()}\n\u001b[32m      5\u001b[39m     | prompt\n\u001b[32m      6\u001b[39m     | llm\n\u001b[32m      7\u001b[39m     | parser\n\u001b[32m      8\u001b[39m )\n\u001b[32m     11\u001b[39m query = user_question\n\u001b[32m---> \u001b[39m\u001b[32m12\u001b[39m result = \u001b[43mrag_chain\u001b[49m\u001b[43m.\u001b[49m\u001b[43minvoke\u001b[49m\u001b[43m(\u001b[49m\u001b[43mquery\u001b[49m\u001b[43m)\u001b[49m\n\u001b[32m     14\u001b[39m file_path = \u001b[33m'\u001b[39m\u001b[33moutput.txt\u001b[39m\u001b[33m'\u001b[39m\n\u001b[32m     15\u001b[39m save_result(result, file_path)\n",
      "\u001b[36mFile \u001b[39m\u001b[32md:\\CODE\\IDE\\Anaconda\\envs\\rag-multi-choice\\Lib\\site-packages\\langchain_core\\runnables\\base.py:3047\u001b[39m, in \u001b[36mRunnableSequence.invoke\u001b[39m\u001b[34m(self, input, config, **kwargs)\u001b[39m\n\u001b[32m   3045\u001b[39m                 input_ = context.run(step.invoke, input_, config, **kwargs)\n\u001b[32m   3046\u001b[39m             \u001b[38;5;28;01melse\u001b[39;00m:\n\u001b[32m-> \u001b[39m\u001b[32m3047\u001b[39m                 input_ = context.run(step.invoke, input_, config)\n\u001b[32m   3048\u001b[39m \u001b[38;5;66;03m# finish the root run\u001b[39;00m\n\u001b[32m   3049\u001b[39m \u001b[38;5;28;01mexcept\u001b[39;00m \u001b[38;5;167;01mBaseException\u001b[39;00m \u001b[38;5;28;01mas\u001b[39;00m e:\n",
      "\u001b[36mFile \u001b[39m\u001b[32md:\\CODE\\IDE\\Anaconda\\envs\\rag-multi-choice\\Lib\\site-packages\\langchain_core\\output_parsers\\base.py:204\u001b[39m, in \u001b[36mBaseOutputParser.invoke\u001b[39m\u001b[34m(self, input, config, **kwargs)\u001b[39m\n\u001b[32m    195\u001b[39m \u001b[38;5;28;01mif\u001b[39;00m \u001b[38;5;28misinstance\u001b[39m(\u001b[38;5;28minput\u001b[39m, BaseMessage):\n\u001b[32m    196\u001b[39m     \u001b[38;5;28;01mreturn\u001b[39;00m \u001b[38;5;28mself\u001b[39m._call_with_config(\n\u001b[32m    197\u001b[39m         \u001b[38;5;28;01mlambda\u001b[39;00m inner_input: \u001b[38;5;28mself\u001b[39m.parse_result(\n\u001b[32m    198\u001b[39m             [ChatGeneration(message=inner_input)]\n\u001b[32m   (...)\u001b[39m\u001b[32m    202\u001b[39m         run_type=\u001b[33m\"\u001b[39m\u001b[33mparser\u001b[39m\u001b[33m\"\u001b[39m,\n\u001b[32m    203\u001b[39m     )\n\u001b[32m--> \u001b[39m\u001b[32m204\u001b[39m \u001b[38;5;28;01mreturn\u001b[39;00m \u001b[38;5;28;43mself\u001b[39;49m\u001b[43m.\u001b[49m\u001b[43m_call_with_config\u001b[49m\u001b[43m(\u001b[49m\n\u001b[32m    205\u001b[39m \u001b[43m    \u001b[49m\u001b[38;5;28;43;01mlambda\u001b[39;49;00m\u001b[43m \u001b[49m\u001b[43minner_input\u001b[49m\u001b[43m:\u001b[49m\u001b[43m \u001b[49m\u001b[38;5;28;43mself\u001b[39;49m\u001b[43m.\u001b[49m\u001b[43mparse_result\u001b[49m\u001b[43m(\u001b[49m\u001b[43m[\u001b[49m\u001b[43mGeneration\u001b[49m\u001b[43m(\u001b[49m\u001b[43mtext\u001b[49m\u001b[43m=\u001b[49m\u001b[43minner_input\u001b[49m\u001b[43m)\u001b[49m\u001b[43m]\u001b[49m\u001b[43m)\u001b[49m\u001b[43m,\u001b[49m\n\u001b[32m    206\u001b[39m \u001b[43m    \u001b[49m\u001b[38;5;28;43minput\u001b[39;49m\u001b[43m,\u001b[49m\n\u001b[32m    207\u001b[39m \u001b[43m    \u001b[49m\u001b[43mconfig\u001b[49m\u001b[43m,\u001b[49m\n\u001b[32m    208\u001b[39m \u001b[43m    \u001b[49m\u001b[43mrun_type\u001b[49m\u001b[43m=\u001b[49m\u001b[33;43m\"\u001b[39;49m\u001b[33;43mparser\u001b[39;49m\u001b[33;43m\"\u001b[39;49m\u001b[43m,\u001b[49m\n\u001b[32m    209\u001b[39m \u001b[43m\u001b[49m\u001b[43m)\u001b[49m\n",
      "\u001b[36mFile \u001b[39m\u001b[32md:\\CODE\\IDE\\Anaconda\\envs\\rag-multi-choice\\Lib\\site-packages\\langchain_core\\runnables\\base.py:1940\u001b[39m, in \u001b[36mRunnable._call_with_config\u001b[39m\u001b[34m(self, func, input_, config, run_type, serialized, **kwargs)\u001b[39m\n\u001b[32m   1936\u001b[39m     child_config = patch_config(config, callbacks=run_manager.get_child())\n\u001b[32m   1937\u001b[39m     \u001b[38;5;28;01mwith\u001b[39;00m set_config_context(child_config) \u001b[38;5;28;01mas\u001b[39;00m context:\n\u001b[32m   1938\u001b[39m         output = cast(\n\u001b[32m   1939\u001b[39m             \u001b[33m\"\u001b[39m\u001b[33mOutput\u001b[39m\u001b[33m\"\u001b[39m,\n\u001b[32m-> \u001b[39m\u001b[32m1940\u001b[39m             \u001b[43mcontext\u001b[49m\u001b[43m.\u001b[49m\u001b[43mrun\u001b[49m\u001b[43m(\u001b[49m\n\u001b[32m   1941\u001b[39m \u001b[43m                \u001b[49m\u001b[43mcall_func_with_variable_args\u001b[49m\u001b[43m,\u001b[49m\u001b[43m  \u001b[49m\u001b[38;5;66;43;03m# type: ignore[arg-type]\u001b[39;49;00m\n\u001b[32m   1942\u001b[39m \u001b[43m                \u001b[49m\u001b[43mfunc\u001b[49m\u001b[43m,\u001b[49m\n\u001b[32m   1943\u001b[39m \u001b[43m                \u001b[49m\u001b[43minput_\u001b[49m\u001b[43m,\u001b[49m\n\u001b[32m   1944\u001b[39m \u001b[43m                \u001b[49m\u001b[43mconfig\u001b[49m\u001b[43m,\u001b[49m\n\u001b[32m   1945\u001b[39m \u001b[43m                \u001b[49m\u001b[43mrun_manager\u001b[49m\u001b[43m,\u001b[49m\n\u001b[32m   1946\u001b[39m \u001b[43m                \u001b[49m\u001b[43m*\u001b[49m\u001b[43m*\u001b[49m\u001b[43mkwargs\u001b[49m\u001b[43m,\u001b[49m\n\u001b[32m   1947\u001b[39m \u001b[43m            \u001b[49m\u001b[43m)\u001b[49m,\n\u001b[32m   1948\u001b[39m         )\n\u001b[32m   1949\u001b[39m \u001b[38;5;28;01mexcept\u001b[39;00m \u001b[38;5;167;01mBaseException\u001b[39;00m \u001b[38;5;28;01mas\u001b[39;00m e:\n\u001b[32m   1950\u001b[39m     run_manager.on_chain_error(e)\n",
      "\u001b[36mFile \u001b[39m\u001b[32md:\\CODE\\IDE\\Anaconda\\envs\\rag-multi-choice\\Lib\\site-packages\\langchain_core\\runnables\\config.py:428\u001b[39m, in \u001b[36mcall_func_with_variable_args\u001b[39m\u001b[34m(func, input, config, run_manager, **kwargs)\u001b[39m\n\u001b[32m    426\u001b[39m \u001b[38;5;28;01mif\u001b[39;00m run_manager \u001b[38;5;129;01mis\u001b[39;00m \u001b[38;5;129;01mnot\u001b[39;00m \u001b[38;5;28;01mNone\u001b[39;00m \u001b[38;5;129;01mand\u001b[39;00m accepts_run_manager(func):\n\u001b[32m    427\u001b[39m     kwargs[\u001b[33m\"\u001b[39m\u001b[33mrun_manager\u001b[39m\u001b[33m\"\u001b[39m] = run_manager\n\u001b[32m--> \u001b[39m\u001b[32m428\u001b[39m \u001b[38;5;28;01mreturn\u001b[39;00m \u001b[43mfunc\u001b[49m\u001b[43m(\u001b[49m\u001b[38;5;28;43minput\u001b[39;49m\u001b[43m,\u001b[49m\u001b[43m \u001b[49m\u001b[43m*\u001b[49m\u001b[43m*\u001b[49m\u001b[43mkwargs\u001b[49m\u001b[43m)\u001b[49m\n",
      "\u001b[36mFile \u001b[39m\u001b[32md:\\CODE\\IDE\\Anaconda\\envs\\rag-multi-choice\\Lib\\site-packages\\langchain_core\\output_parsers\\base.py:205\u001b[39m, in \u001b[36mBaseOutputParser.invoke.<locals>.<lambda>\u001b[39m\u001b[34m(inner_input)\u001b[39m\n\u001b[32m    195\u001b[39m \u001b[38;5;28;01mif\u001b[39;00m \u001b[38;5;28misinstance\u001b[39m(\u001b[38;5;28minput\u001b[39m, BaseMessage):\n\u001b[32m    196\u001b[39m     \u001b[38;5;28;01mreturn\u001b[39;00m \u001b[38;5;28mself\u001b[39m._call_with_config(\n\u001b[32m    197\u001b[39m         \u001b[38;5;28;01mlambda\u001b[39;00m inner_input: \u001b[38;5;28mself\u001b[39m.parse_result(\n\u001b[32m    198\u001b[39m             [ChatGeneration(message=inner_input)]\n\u001b[32m   (...)\u001b[39m\u001b[32m    202\u001b[39m         run_type=\u001b[33m\"\u001b[39m\u001b[33mparser\u001b[39m\u001b[33m\"\u001b[39m,\n\u001b[32m    203\u001b[39m     )\n\u001b[32m    204\u001b[39m \u001b[38;5;28;01mreturn\u001b[39;00m \u001b[38;5;28mself\u001b[39m._call_with_config(\n\u001b[32m--> \u001b[39m\u001b[32m205\u001b[39m     \u001b[38;5;28;01mlambda\u001b[39;00m inner_input: \u001b[38;5;28;43mself\u001b[39;49m\u001b[43m.\u001b[49m\u001b[43mparse_result\u001b[49m\u001b[43m(\u001b[49m\u001b[43m[\u001b[49m\u001b[43mGeneration\u001b[49m\u001b[43m(\u001b[49m\u001b[43mtext\u001b[49m\u001b[43m=\u001b[49m\u001b[43minner_input\u001b[49m\u001b[43m)\u001b[49m\u001b[43m]\u001b[49m\u001b[43m)\u001b[49m,\n\u001b[32m    206\u001b[39m     \u001b[38;5;28minput\u001b[39m,\n\u001b[32m    207\u001b[39m     config,\n\u001b[32m    208\u001b[39m     run_type=\u001b[33m\"\u001b[39m\u001b[33mparser\u001b[39m\u001b[33m\"\u001b[39m,\n\u001b[32m    209\u001b[39m )\n",
      "\u001b[36mFile \u001b[39m\u001b[32md:\\CODE\\IDE\\Anaconda\\envs\\rag-multi-choice\\Lib\\site-packages\\langchain_core\\output_parsers\\pydantic.py:61\u001b[39m, in \u001b[36mPydanticOutputParser.parse_result\u001b[39m\u001b[34m(self, result, partial)\u001b[39m\n\u001b[32m     48\u001b[39m \u001b[38;5;250m\u001b[39m\u001b[33;03m\"\"\"Parse the result of an LLM call to a pydantic object.\u001b[39;00m\n\u001b[32m     49\u001b[39m \n\u001b[32m     50\u001b[39m \u001b[33;03mArgs:\u001b[39;00m\n\u001b[32m   (...)\u001b[39m\u001b[32m     58\u001b[39m \u001b[33;03m    The parsed pydantic object.\u001b[39;00m\n\u001b[32m     59\u001b[39m \u001b[33;03m\"\"\"\u001b[39;00m\n\u001b[32m     60\u001b[39m \u001b[38;5;28;01mtry\u001b[39;00m:\n\u001b[32m---> \u001b[39m\u001b[32m61\u001b[39m     json_object = \u001b[38;5;28;43msuper\u001b[39;49m\u001b[43m(\u001b[49m\u001b[43m)\u001b[49m\u001b[43m.\u001b[49m\u001b[43mparse_result\u001b[49m\u001b[43m(\u001b[49m\u001b[43mresult\u001b[49m\u001b[43m)\u001b[49m\n\u001b[32m     62\u001b[39m     \u001b[38;5;28;01mreturn\u001b[39;00m \u001b[38;5;28mself\u001b[39m._parse_obj(json_object)\n\u001b[32m     63\u001b[39m \u001b[38;5;28;01mexcept\u001b[39;00m OutputParserException:\n",
      "\u001b[36mFile \u001b[39m\u001b[32md:\\CODE\\IDE\\Anaconda\\envs\\rag-multi-choice\\Lib\\site-packages\\langchain_core\\output_parsers\\json.py:85\u001b[39m, in \u001b[36mJsonOutputParser.parse_result\u001b[39m\u001b[34m(self, result, partial)\u001b[39m\n\u001b[32m     83\u001b[39m \u001b[38;5;28;01mexcept\u001b[39;00m JSONDecodeError \u001b[38;5;28;01mas\u001b[39;00m e:\n\u001b[32m     84\u001b[39m     msg = \u001b[33mf\u001b[39m\u001b[33m\"\u001b[39m\u001b[33mInvalid json output: \u001b[39m\u001b[38;5;132;01m{\u001b[39;00mtext\u001b[38;5;132;01m}\u001b[39;00m\u001b[33m\"\u001b[39m\n\u001b[32m---> \u001b[39m\u001b[32m85\u001b[39m     \u001b[38;5;28;01mraise\u001b[39;00m OutputParserException(msg, llm_output=text) \u001b[38;5;28;01mfrom\u001b[39;00m\u001b[38;5;250m \u001b[39m\u001b[34;01me\u001b[39;00m\n",
      "\u001b[31mOutputParserException\u001b[39m: Invalid json output: Dựa vào nội dung sau, hãy:\n        1. Tóm tắt tối đa 3 ý chính, kèm theo số trang nếu có.\n        2. Trả lời câu hỏi bằng tiếng Việt ngắn gọn và chính xác.\n        3. Nếu không có thông tin liên quan, hãy để \"Answer\" là \"Không có dữ liệu liên quan\".\n\n        Đảm bảo trả kết quả **ở dạng JSON** với cấu trúc sau:\n        {\"main_ideas\": [\n            {\"point\": \"Ý chính 1\", \"source\": \"Trang ...\"},\n            {\"point\": \"Ý chính 2\", \"source\": \"Trang ...\"},\n            {\"point\": \"Ý chính 3\", \"source\": \"Trang ...\"}\n        ],\n        \"answer\": \"Câu trả lời ngắn gọn\"\n        }\n\n        Vui lòng chỉ trả lời bằng format JSON, không giải thích thêm.\n\n        Context:\n        Chương 1\nTổng quan về IoT\n1.1 IoT là gì? Internet of Things (IoT) là một hệ thống gồm các thiết bị được gọi là \"vật\". Những thiết bị này có các bộ phận điện tử cho phép chúng có khả năng\ntự động thu thập dữ liệu thông qua cảm biến, xử lý và trao đổi dữ liệu\nqua mạng. Những thiết bị này có thể là các thiết bị gia dụng đơn giản như\nrouter hay các thiết bị phức tạp như máy móc công nghiệp quy mô lớn\nĐặc trưng nổi bật của IoT là tính liên thông năng lượng thấp: mỗi\nthiết bị IoT sẽ luôn luôn được bật và đều được kết nối và tương tác với các\nthiết bị IoT khác trong cùng hệ thống. Những giao thức kết nối được sử\ndụng trong hệ thống IoT cần được tối ưu cho hệ thống năng lượng thấp và\nít tài nguyên tính toán. Một đặc trưng khác của những thiết bị IoT này là\ncác thiết bị này có khả năng xử lý và thu thập thông tin trong thời gian\nthực. 1.2 Các thành phần trong hệ thống IoT\nMột hệ thống IoT sẽ bao gồm nhiều thành phần khác nhau, mỗi thành phần\nđều có những tác động riêng đến bảo mật của hệ thống. Kiến trúc hệ thống\nIoT có thể được chia thành 3 tầng: Cảm biến, Mạng và Ứng dụng. Tầng Cảm biến:\n• Gồm các vi điều khiển, cảm biến, bộ truyền động và các giao thức qua\ndây (UART, JTAG, I2C, v.v.).\n\nIoT Security\nNgười thực hiện:Nguyễn Bình Nam\nNgười hướng dẫn:Trần Quang Tài\nNgày 11 tháng 6 năm 2025\n\nChương 4\nMinh họa\n4.1 Thiết bị được sử dụng\nThiết bị được sử dụng cho minh họa các lỗ hổng trên hệ thống IoT là thiết\nbị router DIR-820L của D-Link. Thiết bị này là một thiết bị router được sản\nxuất từ năm 2013. Dự án này sẽ minh họa 5 lỗ hổng khác nhau còn tồn tại\ntrên firmware mới nhất của thiết bị này. 12\n\nChương 5\nKết luận\nBảo mật cho IoT là một thách thức do hàng tỷ thiết bị kết nối, từ bộ điều\nnhiệt gia đình đến cảm biến công nghiệp, ngày càng gia tăng. Những thiết bị\nnày thường gặp phải các vấn đề như xác thực yếu, kênh truyền không được\nmã hóa và cơ chế cập nhật firmware không an toàn, tất cả đều mở đường\ncho các cuộc tấn công như MITM, phát lại gói tin, can thiệp vào firmware\nvà dò mật khẩu. Dự án này đã thảo luận về các mối đe dọa IoT, xác định\ncác phương thức khai thác thực tiễn. Các lỗ hổng trên router DIR-820L\nđã minh họa rủi ro lớn trong thiết bị IoT và các điểm yếu cần được khắc phục. Để bảo mật được hệ sinh thái IoT đòi hỏi một cách tiếp cận tổng\nthể trên nhiều thành phần của hệ thống. Dự án với thiết bị D-Link\nDIR-820L cho thấy các cách các thiết bị IoT có thể bị khai thác và cách bảo\nvệ các thiết bị này khỏi những cuộc tấn công này, mở hướng cho các triển\nkhai IoT an toàn và bền vững hơn. 33\n\n        Question:\n        IoT là gi?\n\n        Answer:\n\nIoT (Internet of Things) là một hệ thống gồm các thiết bị được gọi là \"vật\". Những thiết bị này có các bộ phận điện tử cho phép chúng có khả năng tự động thu thập dữ liệu thông qua cảm biến, xử lý và trao đổi dữ liệu qua mạng.\nFor troubleshooting, visit: https://python.langchain.com/docs/troubleshooting/errors/OUTPUT_PARSING_FAILURE "
     ]
    }
   ],
   "source": [
    "question = \"IoT là gi?\"\n",
    "result = run_custom_rag(question)"
   ]
  },
  {
   "cell_type": "code",
   "execution_count": null,
   "id": "55605c17",
   "metadata": {},
   "outputs": [],
   "source": [
    "query = \"Các thành phần trong hệ thống IoT bao gồm những gì ?\"\n",
    "result = run_custom_rag(query)"
   ]
  },
  {
   "cell_type": "code",
   "execution_count": null,
   "id": "1d59b789",
   "metadata": {},
   "outputs": [],
   "source": []
  }
 ],
 "metadata": {
  "kernelspec": {
   "display_name": "rag-multi-choice",
   "language": "python",
   "name": "python3"
  },
  "language_info": {
   "codemirror_mode": {
    "name": "ipython",
    "version": 3
   },
   "file_extension": ".py",
   "mimetype": "text/x-python",
   "name": "python",
   "nbconvert_exporter": "python",
   "pygments_lexer": "ipython3",
   "version": "3.11.13"
  }
 },
 "nbformat": 4,
 "nbformat_minor": 5
}
